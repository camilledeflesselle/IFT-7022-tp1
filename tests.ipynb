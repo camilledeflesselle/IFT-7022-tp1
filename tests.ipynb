{
 "cells": [
  {
   "cell_type": "markdown",
   "metadata": {},
   "source": [
    "## TÂCHE 1 – EXPRESSIONS RÉGULIÈRES – EXTRACTION D’INFORMATION À PARTIR DE RECETTES"
   ]
  },
  {
   "cell_type": "code",
   "execution_count": 1,
   "metadata": {},
   "outputs": [
    {
     "name": "stdout",
     "output_type": "stream",
     "text": [
      "/Users/camilledeflesselle/Desktop/IFT-7022/IFT-7022-tp1/fichiers_tp1\n"
     ]
    }
   ],
   "source": [
    "%cd fichiers_tp1"
   ]
  },
  {
   "cell_type": "code",
   "execution_count": 66,
   "metadata": {},
   "outputs": [
    {
     "name": "stdout",
     "output_type": "stream",
     "text": [
      "Lecture des ingrédients du fichier ./data/ingredients.txt. Voici quelques exemples: \n",
      "\n",
      "Extractions fausses :\n",
      "Result / Truth\n",
      "0,25 tasse (65 ml) / 0,25 tasse (65 ml) ou au goût\n",
      "0,25 tasse (65 ml) / 0,25 tasse (65 ml) ou au goût\n",
      "1 cuillère à soupe (15 ml) / QUANTITE1 cuillère à soupe (15 ml)\n",
      "2 / 2 boîtes de conserve (213 g)\n",
      "1 rôti de / 1 rôti de 675 g (1 ½ lb)\n",
      "190 g / 190 g (¾ tasse)\n",
      "2,5 ml / 2,5ml (½ c. à thé)\n",
      "7,5 ml (1 / 7,5 ml (1 ½ c. à thé)\n",
      "340 g / 340 g (¾ lb)\n",
      "3 / 3 d’environ 340 g (¾ lb) chacun\n",
      "7 / 7 à 8\n",
      " / au goût\n",
      " / ½ botte\n",
      "30 ml (2 c. à soupe) / 30 ml (2 c. à soupe) (facultatif)\n",
      " / Quelques sommités\n",
      " / une demi\n",
      "Percentage of errors : 12.5%\n"
     ]
    }
   ],
   "source": [
    "\n",
    "# (\\(?[\\d]+((,|\\/)[\\d]+)?\\s((c\\.|cuillère)s?\\sà\\s[A-zÀ-ü]+\\.?|(rôti\\sde|tasse|Bouquet|Rondelle|enveloppe|tranche)s?|m|g|k|po|lb|l|L|oz|)+(\\.|é|\\b)\\)?)\n",
    "execfile(\"t1_extraction_ingredients.py\")"
   ]
  }
 ],
 "metadata": {
  "kernelspec": {
   "display_name": "Python 3.9.7 ('base')",
   "language": "python",
   "name": "python3"
  },
  "language_info": {
   "codemirror_mode": {
    "name": "ipython",
    "version": 3
   },
   "file_extension": ".py",
   "mimetype": "text/x-python",
   "name": "python",
   "nbconvert_exporter": "python",
   "pygments_lexer": "ipython3",
   "version": "3.9.7"
  },
  "orig_nbformat": 4,
  "vscode": {
   "interpreter": {
    "hash": "40d3a090f54c6569ab1632332b64b2c03c39dcf918b08424e98f38b5ae0af88f"
   }
  }
 },
 "nbformat": 4,
 "nbformat_minor": 2
}
