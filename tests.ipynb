{
 "cells": [
  {
   "cell_type": "markdown",
   "metadata": {},
   "source": [
    "## TÂCHE 1 – EXPRESSIONS RÉGULIÈRES – EXTRACTION D’INFORMATION À PARTIR DE RECETTES"
   ]
  },
  {
   "cell_type": "code",
   "execution_count": 1,
   "metadata": {},
   "outputs": [
    {
     "name": "stdout",
     "output_type": "stream",
     "text": [
      "/Users/camilledeflesselle/Desktop/IFT-7022/IFT-7022-tp1/fichiers_tp1\n"
     ]
    }
   ],
   "source": [
    "%cd fichiers_tp1"
   ]
  },
  {
   "cell_type": "code",
   "execution_count": 3,
   "metadata": {},
   "outputs": [
    {
     "name": "stdout",
     "output_type": "stream",
     "text": [
      "Lecture des ingrédients du fichier ./data/ingredients.txt. Voici quelques exemples: \n",
      "\n",
      "Extractions fausses :\n",
      "Result / Truth\n",
      "pommes vertes pelées / pommes vertes\n",
      "échalotes coupées finement / échalotes\n",
      "champignons émincés / champignons\n",
      "crème % / crème 35%\n",
      "poitrine de poulet désossées et coupées / poitrine de poulet\n",
      "oeuf battu / oeuf\n",
      "gingembre râpé / gingembre\n",
      "oignon vert coupés / oignon vert\n",
      "fromage cheddar râpé / fromage cheddar\n",
      "échalote hachées / échalote\n",
      "oeuf battu / oeuf\n",
      "pommes de terre rattes coupées(¼ po) d’épaisseur / pommes de terre\n",
      "Préparation de la pâte épicée / \n",
      "cacahuètes torréfiées / cacahuètes\n",
      "petites palourdes dans leur coquille / petites palourdes\n",
      "langoustines surgelées et décongelées (voir note) / langoustines surgelées\n",
      "asperges moyennes coupées / asperges moyennes\n",
      "persil plat ciselé / persil plat\n",
      "pain baguette d’environ  cm d’épaisseur / pain baguette\n",
      "Beurre pour fonçage / Beurre\n",
      "Percentage of errors for quantities : 12.5%\n",
      "Percentage of errors for ingredients : 15.625%\n"
     ]
    }
   ],
   "source": [
    "\n",
    "# (\\(?[\\d]+((,|\\/)[\\d]+)?\\s((c\\.|cuillère)s?\\sà\\s[A-zÀ-ü]+\\.?|(rôti\\sde|tasse|Bouquet|Rondelle|enveloppe|tranche)s?|m|g|k|po|lb|l|L|oz|)+(\\.|é|\\b)\\)?)\n",
    "execfile(\"t1_extraction_ingredients.py\")"
   ]
  },
  {
   "cell_type": "markdown",
   "metadata": {},
   "source": [
    "## TÂCHE 2 – MODÈLES DE LANGUE N-GRAMMES - COMME LE DISAIT LE PROVERBE…"
   ]
  },
  {
   "cell_type": "code",
   "execution_count": 70,
   "metadata": {},
   "outputs": [
    {
     "name": "stdout",
     "output_type": "stream",
     "text": [
      "\n",
      "Nombre de proverbes pour entraîner les modèles :  3108\n",
      "\n",
      "Nombre de tests du fichier ./data/test_proverbes.txt: 46\n",
      "\n",
      "Les résultats des tests sont:\n",
      "\n",
      "\n",
      " Résultats avec n = 1 et le critère 'perplexity' : \n",
      "\n",
      "\tProverbe incomplet: a beau mentir qui *** de loin , Options: ['vient', 'part', 'mange', 'programme']\n",
      "\tSolution = vient , Valeur = 434.15031558678913\n",
      "\n",
      "\tProverbe incomplet: a beau *** qui vient de loin , Options: ['mentir', 'prêcher', 'temps', 'visage']\n",
      "\tSolution = temps , Valeur = 327.68151952835603\n",
      "\n",
      "\tProverbe incomplet: l’occasion fait le *** , Options: ['larron', 'malin', 'bonheur', 'pouvoir']\n",
      "\tSolution = bonheur , Valeur = 273.32276484035833\n",
      "\n",
      "\tProverbe incomplet: aide-toi, le ciel t’*** , Options: ['aidera', 'a', 'en', 'armera']\n",
      "\tSolution = a , Valeur = 301.3954347743886\n",
      "\n",
      "\tProverbe incomplet: année de gelée, *** de blé , Options: ['année', 'faute', 'années', 'et']\n",
      "\tSolution = et , Valeur = 390.01718490193497\n",
      "\n",
      "\tProverbe incomplet: après la pluie, le *** temps , Options: ['beau', 'passe', 'ancien', 'mauvais']\n",
      "\tSolution = mauvais , Valeur = 283.80650095844334\n",
      "\n",
      "\tProverbe incomplet: aux échecs, les *** sont les plus près des rois , Options: ['fous', 'biens', 'affaires', 'chats']\n",
      "\tSolution = affaires , Valeur = 451.35027514083373\n",
      "\n",
      "\tProverbe incomplet: ce que *** veut, dieu le veut , Options: ['femme', 'homme', 'enfant', 'dieu']\n",
      "\tSolution = homme , Valeur = 175.70887744612642\n",
      "\n",
      "\tProverbe incomplet: bien mal acquis ne *** jamais , Options: ['profite', 'prospère', 'saurait', 'voit']\n",
      "\tSolution = voit , Valeur = 736.9570400900823\n",
      "\n",
      "\tProverbe incomplet: bon ouvrier ne querelle pas ses *** , Options: ['outils', 'voisins', 'petits', 'outil']\n",
      "\tSolution = petits , Valeur = 682.7918265032697\n",
      "\n",
      "\tProverbe incomplet: ce n’est pas tous les jours *** , Options: ['fête', 'pâques', 'dangereux', 'noces']\n",
      "\tSolution = fête , Valeur = 214.04367830604437\n",
      "\n",
      "\tProverbe incomplet: pour le fou, c’est tous les jours *** , Options: ['fête', 'pâques', 'dangereux', 'noces']\n",
      "\tSolution = fête , Valeur = 235.6020049179169\n",
      "\n",
      "\tProverbe incomplet: dire et faire, *** deux , Options: ['sont', 'donne', 'font', 'tous']\n",
      "\tSolution = sont , Valeur = 246.59321837342426\n",
      "\n",
      "\tProverbe incomplet: mieux vaut *** que jamais , Options: ['tard', 'donner', 'bon', 'être']\n",
      "\tSolution = bon , Valeur = 284.2705064835541\n",
      "\n",
      "\tProverbe incomplet: d’un sac *** ne peut tirer deux moutures , Options: ['on', 'qui', 'nul', 'rien']\n",
      "\tSolution = qui , Valeur = 378.68447620707923\n",
      "\n",
      "\tProverbe incomplet: à qui dieu aide, *** ne peut nuire , Options: ['nul', 'on', 'qui', 'rien']\n",
      "\tSolution = qui , Valeur = 252.89818120305478\n",
      "\n",
      "\tProverbe incomplet: il n’y a *** de rose de cent jours , Options: ['point', 'pas', 'rien', 'toujours']\n",
      "\tSolution = pas , Valeur = 212.70538524564589\n",
      "\n",
      "\tProverbe incomplet: il faut le *** pour le croire , Options: ['voir', 'boire', 'retrouver', 'temps']\n",
      "\tSolution = temps , Valeur = 227.16207355766036\n",
      "\n",
      "\tProverbe incomplet: on ne *** pas le poisson qui est encore dans la mer , Options: ['vend', 'prend', 'connaît', 'perd']\n",
      "\tSolution = perd , Valeur = 237.83912214611865\n",
      "\n",
      "\tProverbe incomplet: la langue d’un *** vaut mieux que celle d’un menteur , Options: ['muet', 'tiens', 'silence', 'homme']\n",
      "\tSolution = homme , Valeur = 194.6586746635071\n",
      "\n",
      "\tProverbe incomplet: *** femme fait le bon homme , Options: ['bonne', 'souvent', 'qui', 'une']\n",
      "\tSolution = qui , Valeur = 191.31382580570738\n",
      "\n",
      "\tProverbe incomplet: bonne *** fait le bon homme , Options: ['femme', 'homme', 'étoile', 'terre']\n",
      "\tSolution = homme , Valeur = 254.14532179653463\n",
      "\n",
      "\tProverbe incomplet: bonne femme *** le bon homme , Options: ['fait', 'veut', 'qui', 'sage']\n",
      "\tSolution = qui , Valeur = 237.28115839258933\n",
      "\n",
      "\tProverbe incomplet: bonne femme fait *** bon homme , Options: ['le', 'larron', 'tout', 'rire']\n",
      "\tSolution = le , Valeur = 301.89383147747196\n",
      "\n",
      "\tProverbe incomplet: bonne femme fait le *** homme , Options: ['bon', 'doux', 'plus', 'larron']\n",
      "\tSolution = plus , Valeur = 278.2954380462714\n",
      "\n",
      "\tProverbe incomplet: bonne femme fait le bon *** , Options: ['homme', 'femme', 'vin', 'pain']\n",
      "\tSolution = homme , Valeur = 301.89383147747196\n",
      "\n",
      "\tProverbe incomplet: *** que femme veut, dieu le veut , Options: ['ce', 'mieux', 'tant', 'temps']\n",
      "\tSolution = ce , Valeur = 199.92761896076655\n",
      "\n",
      "\tProverbe incomplet: ce *** femme veut, dieu le veut , Options: ['que', 'bonne', 'une', 'souvent']\n",
      "\tSolution = que , Valeur = 199.92761896076655\n",
      "\n",
      "\tProverbe incomplet: ce que femme ***, dieu le veut , Options: ['veut', 'fait', 'qui', 'font']\n",
      "\tSolution = qui , Valeur = 149.63125905731764\n",
      "\n",
      "\tProverbe incomplet: ce que femme veut, dieu le *** , Options: ['veut', 'fait', 'qui', 'font']\n",
      "\tSolution = qui , Valeur = 149.63125905731772\n",
      "\n",
      "\tProverbe incomplet: *** parleur, grand menteur , Options: ['grand', 'petit', 'ni', 'un']\n",
      "\tSolution = un , Valeur = 586.9501740568194\n",
      "\n",
      "\tProverbe incomplet: grand ***, grand menteur , Options: ['parleur', 'menteur', 'font', 'tous']\n",
      "\tSolution = tous , Valeur = 574.6931163751351\n",
      "\n",
      "\tProverbe incomplet: grand parleur, *** menteur , Options: ['grand', 'petit', 'ni', 'un']\n",
      "\tSolution = un , Valeur = 586.9501740568194\n",
      "\n",
      "\tProverbe incomplet: grand parleur, grand *** , Options: ['menteur', 'parleur', 'font', 'tous']\n",
      "\tSolution = tous , Valeur = 642.7522490583473\n",
      "\n",
      "\tProverbe incomplet: *** poisson pourrit par la tête , Options: ['le', 'gros', 'petit', 'un']\n",
      "\tSolution = le , Valeur = 642.4681347879072\n",
      "\n",
      "\tProverbe incomplet: le poisson *** par la tête , Options: ['pourrit', 'deviendra', 'est', 'qui']\n",
      "\tSolution = qui , Valeur = 238.09688205528008\n",
      "\n",
      "\tProverbe incomplet: le poisson pourrit par la *** , Options: ['tête', 'faim', 'ville', 'bouche']\n",
      "\tSolution = tête , Valeur = 642.4681347879072\n",
      "\n",
      "\tProverbe incomplet: *** vaut prévenir que guérir , Options: ['mieux', 'il', 'ne', 'autant']\n",
      "\tSolution = ne , Valeur = 654.7591179410659\n",
      "\n",
      "\tProverbe incomplet: mieux *** prévenir que guérir , Options: ['vaut', 'que', 'silence', 'sage']\n",
      "\tSolution = que , Valeur = 745.341336997206\n",
      "\n",
      "\tProverbe incomplet: mieux vaut *** que guérir , Options: ['prévenir', 'voir', 'moins', 'tard']\n",
      "\tSolution = moins , Valeur = 590.1806251914805\n",
      "\n",
      "\tProverbe incomplet: mieux vaut prévenir *** guérir , Options: ['que', 'et', 'ou', 'sans']\n",
      "\tSolution = et , Valeur = 919.904013318448\n",
      "\n",
      "\tProverbe incomplet: mieux vaut prévenir que *** , Options: ['guérir', 'ceinture', 'silence', 'dieu']\n",
      "\tSolution = dieu , Valeur = 608.6593614433341\n",
      "\n",
      "\tProverbe incomplet: *** la poire est mûre, elle tombe , Options: ['quand', 'si', 'lorsque', 'parfois']\n",
      "\tSolution = quand , Valeur = 559.5728134522325\n",
      "\n",
      "\tProverbe incomplet: quand la *** est mûre, elle tombe , Options: ['poire', 'tête', 'pomme', 'banane']\n",
      "\tSolution = tête , Valeur = 422.31952031307156\n",
      "\n",
      "\tProverbe incomplet: quand la poire *** mûre, elle tombe , Options: ['est', 'devient', 'reste', 'semble']\n",
      "\tSolution = est , Valeur = 559.5728134522325\n",
      "\n",
      "\tProverbe incomplet: quand la poire est mûre, elle *** , Options: ['tombe', 'vient', 'est', 'chante']\n",
      "\tSolution = est , Valeur = 345.9382611537757\n",
      "\n",
      "\n",
      " Résultats avec n = 2 et le critère 'perplexity' : \n",
      "\n",
      "\tProverbe incomplet: a beau mentir qui *** de loin , Options: ['vient', 'part', 'mange', 'programme']\n",
      "\tSolution = vient , Valeur = 1274.5300428347618\n",
      "\n",
      "\tProverbe incomplet: a beau *** qui vient de loin , Options: ['mentir', 'prêcher', 'temps', 'visage']\n",
      "\tSolution = temps , Valeur = 1212.7896364020228\n",
      "\n",
      "\tProverbe incomplet: l’occasion fait le *** , Options: ['larron', 'malin', 'bonheur', 'pouvoir']\n",
      "\tSolution = bonheur , Valeur = 340.7391851303974\n",
      "\n",
      "\tProverbe incomplet: aide-toi, le ciel t’*** , Options: ['aidera', 'a', 'en', 'armera']\n",
      "\tSolution = a , Valeur = 601.4061534435677\n",
      "\n",
      "\tProverbe incomplet: année de gelée, *** de blé , Options: ['année', 'faute', 'années', 'et']\n",
      "\tSolution = et , Valeur = 770.6015893485749\n",
      "\n",
      "\tProverbe incomplet: après la pluie, le *** temps , Options: ['beau', 'passe', 'ancien', 'mauvais']\n",
      "\tSolution = beau , Valeur = 549.795128922859\n",
      "\n",
      "\tProverbe incomplet: aux échecs, les *** sont les plus près des rois , Options: ['fous', 'biens', 'affaires', 'chats']\n",
      "\tSolution = fous , Valeur = 756.6905234977802\n",
      "\n",
      "\tProverbe incomplet: ce que *** veut, dieu le veut , Options: ['femme', 'homme', 'enfant', 'dieu']\n",
      "\tSolution = dieu , Valeur = 582.7531242369311\n",
      "\n",
      "\tProverbe incomplet: bien mal acquis ne *** jamais , Options: ['profite', 'prospère', 'saurait', 'voit']\n",
      "\tSolution = saurait , Valeur = 1182.2063647098892\n",
      "\n",
      "\tProverbe incomplet: bon ouvrier ne querelle pas ses *** , Options: ['outils', 'voisins', 'petits', 'outil']\n",
      "\tSolution = outils , Valeur = 1148.0503629535992\n",
      "\n",
      "\tProverbe incomplet: ce n’est pas tous les jours *** , Options: ['fête', 'pâques', 'dangereux', 'noces']\n",
      "\tSolution = fête , Valeur = 223.3179148965538\n",
      "\n",
      "\tProverbe incomplet: pour le fou, c’est tous les jours *** , Options: ['fête', 'pâques', 'dangereux', 'noces']\n",
      "\tSolution = fête , Valeur = 393.78036189764686\n",
      "\n",
      "\tProverbe incomplet: dire et faire, *** deux , Options: ['sont', 'donne', 'font', 'tous']\n",
      "\tSolution = sont , Valeur = 836.1471559804386\n",
      "\n",
      "\tProverbe incomplet: mieux vaut *** que jamais , Options: ['tard', 'donner', 'bon', 'être']\n",
      "\tSolution = donner , Valeur = 615.9933149193148\n",
      "\n",
      "\tProverbe incomplet: d’un sac *** ne peut tirer deux moutures , Options: ['on', 'qui', 'nul', 'rien']\n",
      "\tSolution = on , Valeur = 488.19155852476814\n",
      "\n",
      "\tProverbe incomplet: à qui dieu aide, *** ne peut nuire , Options: ['nul', 'on', 'qui', 'rien']\n",
      "\tSolution = qui , Valeur = 451.67131555004437\n",
      "\n",
      "\tProverbe incomplet: il n’y a *** de rose de cent jours , Options: ['point', 'pas', 'rien', 'toujours']\n",
      "\tSolution = pas , Valeur = 216.65769898886037\n",
      "\n",
      "\tProverbe incomplet: il faut le *** pour le croire , Options: ['voir', 'boire', 'retrouver', 'temps']\n",
      "\tSolution = temps , Valeur = 372.1869643306329\n",
      "\n",
      "\tProverbe incomplet: on ne *** pas le poisson qui est encore dans la mer , Options: ['vend', 'prend', 'connaît', 'perd']\n",
      "\tSolution = prend , Valeur = 409.4292077720907\n",
      "\n",
      "\tProverbe incomplet: la langue d’un *** vaut mieux que celle d’un menteur , Options: ['muet', 'tiens', 'silence', 'homme']\n",
      "\tSolution = homme , Valeur = 274.2089473040784\n",
      "\n",
      "\tProverbe incomplet: *** femme fait le bon homme , Options: ['bonne', 'souvent', 'qui', 'une']\n",
      "\tSolution = qui , Valeur = 612.9548814782485\n",
      "\n",
      "\tProverbe incomplet: bonne *** fait le bon homme , Options: ['femme', 'homme', 'étoile', 'terre']\n",
      "\tSolution = femme , Valeur = 832.73931698213\n",
      "\n",
      "\tProverbe incomplet: bonne femme *** le bon homme , Options: ['fait', 'veut', 'qui', 'sage']\n",
      "\tSolution = qui , Valeur = 750.4947252425394\n",
      "\n",
      "\tProverbe incomplet: bonne femme fait *** bon homme , Options: ['le', 'larron', 'tout', 'rire']\n",
      "\tSolution = le , Valeur = 832.73931698213\n",
      "\n",
      "\tProverbe incomplet: bonne femme fait le *** homme , Options: ['bon', 'doux', 'plus', 'larron']\n",
      "\tSolution = plus , Valeur = 629.1267338830975\n",
      "\n",
      "\tProverbe incomplet: bonne femme fait le bon *** , Options: ['homme', 'femme', 'vin', 'pain']\n",
      "\tSolution = vin , Valeur = 803.5127337724365\n",
      "\n",
      "\tProverbe incomplet: *** que femme veut, dieu le veut , Options: ['ce', 'mieux', 'tant', 'temps']\n",
      "\tSolution = ce , Valeur = 723.0899272440836\n",
      "\n",
      "\tProverbe incomplet: ce *** femme veut, dieu le veut , Options: ['que', 'bonne', 'une', 'souvent']\n",
      "\tSolution = que , Valeur = 723.0899272440836\n",
      "\n",
      "\tProverbe incomplet: ce que femme ***, dieu le veut , Options: ['veut', 'fait', 'qui', 'font']\n",
      "\tSolution = veut , Valeur = 723.0899272440836\n",
      "\n",
      "\tProverbe incomplet: ce que femme veut, dieu le *** , Options: ['veut', 'fait', 'qui', 'font']\n",
      "\tSolution = fait , Valeur = 606.2349760590777\n",
      "\n",
      "\tProverbe incomplet: *** parleur, grand menteur , Options: ['grand', 'petit', 'ni', 'un']\n",
      "\tSolution = un , Valeur = 1180.2574920918278\n",
      "\n",
      "\tProverbe incomplet: grand ***, grand menteur , Options: ['parleur', 'menteur', 'font', 'tous']\n",
      "\tSolution = parleur , Valeur = 1361.9741465253405\n",
      "\n",
      "\tProverbe incomplet: grand parleur, *** menteur , Options: ['grand', 'petit', 'ni', 'un']\n",
      "\tSolution = un , Valeur = 1151.2066724398496\n",
      "\n",
      "\tProverbe incomplet: grand parleur, grand *** , Options: ['menteur', 'parleur', 'font', 'tous']\n",
      "\tSolution = menteur , Valeur = 1361.9741465253405\n",
      "\n",
      "\tProverbe incomplet: *** poisson pourrit par la tête , Options: ['le', 'gros', 'petit', 'un']\n",
      "\tSolution = le , Valeur = 505.29241759843086\n",
      "\n",
      "\tProverbe incomplet: le poisson *** par la tête , Options: ['pourrit', 'deviendra', 'est', 'qui']\n",
      "\tSolution = pourrit , Valeur = 505.29241759843086\n",
      "\n",
      "\tProverbe incomplet: le poisson pourrit par la *** , Options: ['tête', 'faim', 'ville', 'bouche']\n",
      "\tSolution = tête , Valeur = 505.29241759843086\n",
      "\n",
      "\tProverbe incomplet: *** vaut prévenir que guérir , Options: ['mieux', 'il', 'ne', 'autant']\n",
      "\tSolution = mieux , Valeur = 657.1576145141154\n",
      "\n",
      "\tProverbe incomplet: mieux *** prévenir que guérir , Options: ['vaut', 'que', 'silence', 'sage']\n",
      "\tSolution = vaut , Valeur = 657.1576145141154\n",
      "\n",
      "\tProverbe incomplet: mieux vaut *** que guérir , Options: ['prévenir', 'voir', 'moins', 'tard']\n",
      "\tSolution = moins , Valeur = 604.1297994618889\n",
      "\n",
      "\tProverbe incomplet: mieux vaut prévenir *** guérir , Options: ['que', 'et', 'ou', 'sans']\n",
      "\tSolution = que , Valeur = 657.1576145141154\n",
      "\n",
      "\tProverbe incomplet: mieux vaut prévenir que *** , Options: ['guérir', 'ceinture', 'silence', 'dieu']\n",
      "\tSolution = dieu , Valeur = 499.4530344401777\n",
      "\n",
      "\tProverbe incomplet: *** la poire est mûre, elle tombe , Options: ['quand', 'si', 'lorsque', 'parfois']\n",
      "\tSolution = quand , Valeur = 1265.0539534717645\n",
      "\n",
      "\tProverbe incomplet: quand la *** est mûre, elle tombe , Options: ['poire', 'tête', 'pomme', 'banane']\n",
      "\tSolution = tête , Valeur = 1004.9187750011508\n",
      "\n",
      "\tProverbe incomplet: quand la poire *** mûre, elle tombe , Options: ['est', 'devient', 'reste', 'semble']\n",
      "\tSolution = est , Valeur = 1265.0539534717645\n",
      "\n",
      "\tProverbe incomplet: quand la poire est mûre, elle *** , Options: ['tombe', 'vient', 'est', 'chante']\n",
      "\tSolution = vient , Valeur = 1189.4061670792885\n",
      "\n",
      "\n",
      " Résultats avec n = 3 et le critère 'perplexity' : \n",
      "\n",
      "\tProverbe incomplet: a beau mentir qui *** de loin , Options: ['vient', 'part', 'mange', 'programme']\n",
      "\tSolution = vient , Valeur = 1803.3372555720612\n",
      "\n",
      "\tProverbe incomplet: a beau *** qui vient de loin , Options: ['mentir', 'prêcher', 'temps', 'visage']\n",
      "\tSolution = mentir , Valeur = 1803.3372555720612\n",
      "\n",
      "\tProverbe incomplet: l’occasion fait le *** , Options: ['larron', 'malin', 'bonheur', 'pouvoir']\n",
      "\tSolution = larron , Valeur = 679.8140555421946\n",
      "\n",
      "\tProverbe incomplet: aide-toi, le ciel t’*** , Options: ['aidera', 'a', 'en', 'armera']\n",
      "\tSolution = a , Valeur = 1951.2719930833023\n",
      "\n",
      "\tProverbe incomplet: année de gelée, *** de blé , Options: ['année', 'faute', 'années', 'et']\n",
      "\tSolution = année , Valeur = 1812.8699134684505\n",
      "\n",
      "\tProverbe incomplet: après la pluie, le *** temps , Options: ['beau', 'passe', 'ancien', 'mauvais']\n",
      "\tSolution = beau , Valeur = 1107.8713269707812\n",
      "\n",
      "\tProverbe incomplet: aux échecs, les *** sont les plus près des rois , Options: ['fous', 'biens', 'affaires', 'chats']\n",
      "\tSolution = fous , Valeur = 1557.1067673680873\n",
      "\n",
      "\tProverbe incomplet: ce que *** veut, dieu le veut , Options: ['femme', 'homme', 'enfant', 'dieu']\n",
      "\tSolution = femme , Valeur = 1196.7163999336085\n",
      "\n",
      "\tProverbe incomplet: bien mal acquis ne *** jamais , Options: ['profite', 'prospère', 'saurait', 'voit']\n",
      "\tSolution = prospère , Valeur = 1416.2255027999008\n",
      "\n",
      "\tProverbe incomplet: bon ouvrier ne querelle pas ses *** , Options: ['outils', 'voisins', 'petits', 'outil']\n",
      "\tSolution = outils , Valeur = 1315.9389510520746\n",
      "\n",
      "\tProverbe incomplet: ce n’est pas tous les jours *** , Options: ['fête', 'pâques', 'dangereux', 'noces']\n",
      "\tSolution = fête , Valeur = 448.1899617514355\n",
      "\n",
      "\tProverbe incomplet: pour le fou, c’est tous les jours *** , Options: ['fête', 'pâques', 'dangereux', 'noces']\n",
      "\tSolution = fête , Valeur = 950.8258738005812\n",
      "\n",
      "\tProverbe incomplet: dire et faire, *** deux , Options: ['sont', 'donne', 'font', 'tous']\n",
      "\tSolution = sont , Valeur = 1200.5147460427463\n",
      "\n",
      "\tProverbe incomplet: mieux vaut *** que jamais , Options: ['tard', 'donner', 'bon', 'être']\n",
      "\tSolution = tard , Valeur = 815.2480148471133\n",
      "\n",
      "\tProverbe incomplet: d’un sac *** ne peut tirer deux moutures , Options: ['on', 'qui', 'nul', 'rien']\n",
      "\tSolution = on , Valeur = 1155.7701557752084\n",
      "\n",
      "\tProverbe incomplet: à qui dieu aide, *** ne peut nuire , Options: ['nul', 'on', 'qui', 'rien']\n",
      "\tSolution = on , Valeur = 1128.6860610151034\n",
      "\n",
      "\tProverbe incomplet: il n’y a *** de rose de cent jours , Options: ['point', 'pas', 'rien', 'toujours']\n",
      "\tSolution = pas , Valeur = 369.523908682957\n",
      "\n",
      "\tProverbe incomplet: il faut le *** pour le croire , Options: ['voir', 'boire', 'retrouver', 'temps']\n",
      "\tSolution = voir , Valeur = 813.5129741860222\n",
      "\n",
      "\tProverbe incomplet: on ne *** pas le poisson qui est encore dans la mer , Options: ['vend', 'prend', 'connaît', 'perd']\n",
      "\tSolution = perd , Valeur = 1045.7043589480456\n",
      "\n",
      "\tProverbe incomplet: la langue d’un *** vaut mieux que celle d’un menteur , Options: ['muet', 'tiens', 'silence', 'homme']\n",
      "\tSolution = muet , Valeur = 850.176382139804\n",
      "\n",
      "\tProverbe incomplet: *** femme fait le bon homme , Options: ['bonne', 'souvent', 'qui', 'une']\n",
      "\tSolution = qui , Valeur = 1053.6454141496865\n",
      "\n",
      "\tProverbe incomplet: bonne *** fait le bon homme , Options: ['femme', 'homme', 'étoile', 'terre']\n",
      "\tSolution = femme , Valeur = 1276.597239484895\n",
      "\n",
      "\tProverbe incomplet: bonne femme *** le bon homme , Options: ['fait', 'veut', 'qui', 'sage']\n",
      "\tSolution = fait , Valeur = 1276.597239484895\n",
      "\n",
      "\tProverbe incomplet: bonne femme fait *** bon homme , Options: ['le', 'larron', 'tout', 'rire']\n",
      "\tSolution = le , Valeur = 1276.597239484895\n",
      "\n",
      "\tProverbe incomplet: bonne femme fait le *** homme , Options: ['bon', 'doux', 'plus', 'larron']\n",
      "\tSolution = bon , Valeur = 1276.597239484895\n",
      "\n",
      "\tProverbe incomplet: bonne femme fait le bon *** , Options: ['homme', 'femme', 'vin', 'pain']\n",
      "\tSolution = homme , Valeur = 1276.597239484895\n",
      "\n",
      "\tProverbe incomplet: *** que femme veut, dieu le veut , Options: ['ce', 'mieux', 'tant', 'temps']\n",
      "\tSolution = ce , Valeur = 1196.7163999336085\n",
      "\n",
      "\tProverbe incomplet: ce *** femme veut, dieu le veut , Options: ['que', 'bonne', 'une', 'souvent']\n",
      "\tSolution = que , Valeur = 1196.7163999336085\n",
      "\n",
      "\tProverbe incomplet: ce que femme ***, dieu le veut , Options: ['veut', 'fait', 'qui', 'font']\n",
      "\tSolution = veut , Valeur = 1196.7163999336085\n",
      "\n",
      "\tProverbe incomplet: ce que femme veut, dieu le *** , Options: ['veut', 'fait', 'qui', 'font']\n",
      "\tSolution = fait , Valeur = 1116.825179715777\n",
      "\n",
      "\tProverbe incomplet: *** parleur, grand menteur , Options: ['grand', 'petit', 'ni', 'un']\n",
      "\tSolution = grand , Valeur = 1663.4019953848767\n",
      "\n",
      "\tProverbe incomplet: grand ***, grand menteur , Options: ['parleur', 'menteur', 'font', 'tous']\n",
      "\tSolution = parleur , Valeur = 1663.4019953848767\n",
      "\n",
      "\tProverbe incomplet: grand parleur, *** menteur , Options: ['grand', 'petit', 'ni', 'un']\n",
      "\tSolution = grand , Valeur = 1663.4019953848767\n",
      "\n",
      "\tProverbe incomplet: grand parleur, grand *** , Options: ['menteur', 'parleur', 'font', 'tous']\n",
      "\tSolution = menteur , Valeur = 1663.4019953848767\n",
      "\n",
      "\tProverbe incomplet: *** poisson pourrit par la tête , Options: ['le', 'gros', 'petit', 'un']\n",
      "\tSolution = le , Valeur = 891.4313734431025\n",
      "\n",
      "\tProverbe incomplet: le poisson *** par la tête , Options: ['pourrit', 'deviendra', 'est', 'qui']\n",
      "\tSolution = pourrit , Valeur = 891.4313734431025\n",
      "\n",
      "\tProverbe incomplet: le poisson pourrit par la *** , Options: ['tête', 'faim', 'ville', 'bouche']\n",
      "\tSolution = tête , Valeur = 891.4313734431025\n",
      "\n",
      "\tProverbe incomplet: *** vaut prévenir que guérir , Options: ['mieux', 'il', 'ne', 'autant']\n",
      "\tSolution = mieux , Valeur = 769.36756133643\n",
      "\n",
      "\tProverbe incomplet: mieux *** prévenir que guérir , Options: ['vaut', 'que', 'silence', 'sage']\n",
      "\tSolution = vaut , Valeur = 769.36756133643\n",
      "\n",
      "\tProverbe incomplet: mieux vaut *** que guérir , Options: ['prévenir', 'voir', 'moins', 'tard']\n",
      "\tSolution = prévenir , Valeur = 769.36756133643\n",
      "\n",
      "\tProverbe incomplet: mieux vaut prévenir *** guérir , Options: ['que', 'et', 'ou', 'sans']\n",
      "\tSolution = que , Valeur = 769.36756133643\n",
      "\n",
      "\tProverbe incomplet: mieux vaut prévenir que *** , Options: ['guérir', 'ceinture', 'silence', 'dieu']\n",
      "\tSolution = guérir , Valeur = 769.36756133643\n",
      "\n",
      "\tProverbe incomplet: *** la poire est mûre, elle tombe , Options: ['quand', 'si', 'lorsque', 'parfois']\n",
      "\tSolution = quand , Valeur = 1385.5482220915662\n",
      "\n",
      "\tProverbe incomplet: quand la *** est mûre, elle tombe , Options: ['poire', 'tête', 'pomme', 'banane']\n",
      "\tSolution = poire , Valeur = 1385.5482220915662\n",
      "\n",
      "\tProverbe incomplet: quand la poire *** mûre, elle tombe , Options: ['est', 'devient', 'reste', 'semble']\n",
      "\tSolution = est , Valeur = 1385.5482220915662\n",
      "\n",
      "\tProverbe incomplet: quand la poire est mûre, elle *** , Options: ['tombe', 'vient', 'est', 'chante']\n",
      "\tSolution = tombe , Valeur = 1385.5482220915662\n"
     ]
    }
   ],
   "source": [
    "execfile(\"t2_completer_proverbes.py\")"
   ]
  },
  {
   "cell_type": "code",
   "execution_count": 42,
   "metadata": {},
   "outputs": [],
   "source": [
    "incomplete_proverb = \"a beau mentir qui *** de loin\"\n",
    "options = [\"vient\", \"part\", \"mange\", \"programme\"]\n",
    "\n",
    "model = models[3]"
   ]
  },
  {
   "cell_type": "code",
   "execution_count": 66,
   "metadata": {},
   "outputs": [
    {
     "data": {
      "text/plain": [
       "['a', 'beau', 'mentir', 'qui', 'programme', 'de', 'loin']"
      ]
     },
     "execution_count": 66,
     "metadata": {},
     "output_type": "execute_result"
    }
   ],
   "source": [
    "word_tokenize(tested_proverb)"
   ]
  },
  {
   "cell_type": "code",
   "execution_count": 62,
   "metadata": {},
   "outputs": [],
   "source": [
    "result, score = min(d_perplexity.items(), key=operator.itemgetter(1))"
   ]
  },
  {
   "cell_type": "code",
   "execution_count": 65,
   "metadata": {},
   "outputs": [
    {
     "data": {
      "text/plain": [
       "-12.126704472843189"
      ]
     },
     "execution_count": 65,
     "metadata": {},
     "output_type": "execute_result"
    }
   ],
   "source": [
    "model.logscore(option, )"
   ]
  },
  {
   "cell_type": "code",
   "execution_count": 64,
   "metadata": {},
   "outputs": [
    {
     "data": {
      "text/plain": [
       "1803.3372555720612"
      ]
     },
     "execution_count": 64,
     "metadata": {},
     "output_type": "execute_result"
    }
   ],
   "source": [
    "score"
   ]
  },
  {
   "cell_type": "code",
   "execution_count": null,
   "metadata": {},
   "outputs": [],
   "source": [
    "import operator\n",
    "max(d.items(), key=operator)"
   ]
  },
  {
   "cell_type": "code",
   "execution_count": 23,
   "metadata": {},
   "outputs": [],
   "source": [
    "import re"
   ]
  },
  {
   "cell_type": "code",
   "execution_count": 28,
   "metadata": {},
   "outputs": [
    {
     "data": {
      "text/plain": [
       "'a beau mentir qui part de loin'"
      ]
     },
     "execution_count": 28,
     "metadata": {},
     "output_type": "execute_result"
    }
   ],
   "source": []
  },
  {
   "cell_type": "code",
   "execution_count": null,
   "metadata": {},
   "outputs": [],
   "source": []
  },
  {
   "cell_type": "code",
   "execution_count": 2,
   "metadata": {},
   "outputs": [
    {
     "name": "stdout",
     "output_type": "stream",
     "text": [
      "showing info https://raw.githubusercontent.com/nltk/nltk_data/gh-pages/index.xml\n",
      "showing info https://raw.githubusercontent.com/nltk/nltk_data/gh-pages/index.xml\n"
     ]
    },
    {
     "data": {
      "text/plain": [
       "True"
      ]
     },
     "execution_count": 2,
     "metadata": {},
     "output_type": "execute_result"
    }
   ],
   "source": [
    "import nltk\n",
    "nltk.download()"
   ]
  },
  {
   "cell_type": "code",
   "execution_count": 3,
   "metadata": {},
   "outputs": [
    {
     "data": {
      "text/plain": [
       "['The', 'Fulton', 'County', 'Grand', 'Jury', 'said', ...]"
      ]
     },
     "execution_count": 3,
     "metadata": {},
     "output_type": "execute_result"
    }
   ],
   "source": [
    "from nltk.corpus import brown\n",
    "brown.words()"
   ]
  },
  {
   "cell_type": "code",
   "execution_count": null,
   "metadata": {},
   "outputs": [],
   "source": []
  }
 ],
 "metadata": {
  "kernelspec": {
   "display_name": "Python 3 (ipykernel)",
   "language": "python",
   "name": "python3"
  },
  "language_info": {
   "codemirror_mode": {
    "name": "ipython",
    "version": 3
   },
   "file_extension": ".py",
   "mimetype": "text/x-python",
   "name": "python",
   "nbconvert_exporter": "python",
   "pygments_lexer": "ipython3",
   "version": "3.9.7"
  },
  "vscode": {
   "interpreter": {
    "hash": "40d3a090f54c6569ab1632332b64b2c03c39dcf918b08424e98f38b5ae0af88f"
   }
  }
 },
 "nbformat": 4,
 "nbformat_minor": 2
}
