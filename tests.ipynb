{
 "cells": [
  {
   "cell_type": "markdown",
   "metadata": {},
   "source": [
    "## TÂCHE 1 – EXPRESSIONS RÉGULIÈRES – EXTRACTION D’INFORMATION À PARTIR DE RECETTES"
   ]
  },
  {
   "cell_type": "code",
   "execution_count": 1,
   "metadata": {},
   "outputs": [
    {
     "name": "stdout",
     "output_type": "stream",
     "text": [
      "/Users/camilledeflesselle/Desktop/IFT-7022/IFT-7022-tp1/fichiers_tp1\n"
     ]
    }
   ],
   "source": [
    "%cd fichiers_tp1"
   ]
  },
  {
   "cell_type": "code",
   "execution_count": 2,
   "metadata": {},
   "outputs": [
    {
     "name": "stdout",
     "output_type": "stream",
     "text": [
      "Lecture des ingrédients du fichier ./data/ingredients.txt. Voici quelques exemples: \n",
      "\n",
      "Extractions fausses :\n",
      "Result / Truth\n",
      "crème % / crème 35%\n",
      "poitrine de poulet désossées et / poitrine de poulet\n",
      "0,25 tasse (65 ml) / 0,25 tasse (65 ml) ou au goût\n",
      "0,25 tasse (65 ml) / 0,25 tasse (65 ml) ou au goût\n",
      "1 cuillère à soupe (15 ml) / QUANTITE1 cuillère à soupe (15 ml)\n",
      "1 rôti de / 1 rôti de 675 g (1 ½ lb)\n",
      "190 g / 190 g (¾ tasse)\n",
      "2,5 ml / 2,5ml (½ c. à thé)\n",
      "7,5 ml (1 / 7,5 ml (1 ½ c. à thé)\n",
      "pommes de terre rattes / pommes de terre\n",
      "340 g / 340 g (¾ lb)\n",
      "3 / 3 d’environ 340 g (¾ lb) chacun\n",
      "Préparation de la pâte épicée / \n",
      "sel et poivre du moulin  / sel et poivre du moulin\n",
      " / ½ botte\n",
      "30 ml (2 c. à soupe) / 30 ml (2 c. à soupe) (facultatif)\n",
      "Beurre pour fonçage / Beurre\n",
      "Le jus d’-lime / lime\n",
      "Percentage of errors for quantities : 8.59375%\n",
      "Percentage of errors for ingredients : 5.46875%\n"
     ]
    }
   ],
   "source": [
    "\n",
    "# (\\(?[\\d]+((,|\\/)[\\d]+)?\\s((c\\.|cuillère)s?\\sà\\s[A-zÀ-ü]+\\.?|(rôti\\sde|tasse|Bouquet|Rondelle|enveloppe|tranche)s?|m|g|k|po|lb|l|L|oz|)+(\\.|é|\\b)\\)?)\n",
    "execfile(\"t1_extraction_ingredients.py\")"
   ]
  },
  {
   "cell_type": "markdown",
   "metadata": {},
   "source": [
    "## TÂCHE 2 – MODÈLES DE LANGUE N-GRAMMES - COMME LE DISAIT LE PROVERBE…"
   ]
  },
  {
   "cell_type": "code",
   "execution_count": 3,
   "metadata": {},
   "outputs": [
    {
     "name": "stdout",
     "output_type": "stream",
     "text": [
      "showing info https://raw.githubusercontent.com/nltk/nltk_data/gh-pages/index.xml\n"
     ]
    }
   ],
   "source": [
    "# télécharger nltk -> pip install nltk ->run la cellule\n",
    "import nltk\n",
    "nltk.download()"
   ]
  },
  {
   "cell_type": "code",
   "execution_count": null,
   "metadata": {},
   "outputs": [
    {
     "data": {
      "text/plain": [
       "['The', 'Fulton', 'County', 'Grand', 'Jury', 'said', ...]"
      ]
     },
     "execution_count": 35,
     "metadata": {},
     "output_type": "execute_result"
    }
   ],
   "source": [
    "#test si nltk data téléchargé\n",
    "from nltk.corpus import brown\n",
    "brown.words()"
   ]
  },
  {
   "cell_type": "code",
   "execution_count": null,
   "metadata": {},
   "outputs": [
    {
     "name": "stdout",
     "output_type": "stream",
     "text": [
      "\n",
      "Nombre de proverbes pour entraîner les modèles :  3108\n",
      "\n",
      "\tProverbe incomplet: a beau *** qui vient de loin , Options: ['mentir', 'prêcher', 'temps', 'visage']\n",
      "\tSolution = a beau temps qui vient de loin , Valeur = 327.68151952835603\n",
      "\n",
      "\tProverbe incomplet: l’occasion fait le *** , Options: ['larron', 'malin', 'bonheur', 'pouvoir']\n",
      "\tSolution = l’occasion fait le bonheur , Valeur = 273.32276484035833\n",
      "\n",
      "\tProverbe incomplet: aide-toi, le ciel t’*** , Options: ['aidera', 'a', 'en', 'armera']\n",
      "\tSolution = aide-toi, le ciel t’a , Valeur = 301.3954347743886\n",
      "\n",
      "\tProverbe incomplet: année de gelée, *** de blé , Options: ['année', 'faute', 'années', 'et']\n",
      "\tSolution = année de gelée, et de blé , Valeur = 390.01718490193497\n",
      "\n",
      " Exactitude avec n = 1 et le critère 'perplexity' : 0.2391304347826087\n",
      "\n",
      "\tProverbe incomplet: a beau *** qui vient de loin , Options: ['mentir', 'prêcher', 'temps', 'visage']\n",
      "\tSolution = a beau temps qui vient de loin , Valeur = -58.49305350225498\n",
      "\n",
      "\tProverbe incomplet: l’occasion fait le *** , Options: ['larron', 'malin', 'bonheur', 'pouvoir']\n",
      "\tSolution = l’occasion fait le bonheur , Valeur = -48.56677089352377\n",
      "\n",
      "\tProverbe incomplet: aide-toi, le ciel t’*** , Options: ['aidera', 'a', 'en', 'armera']\n",
      "\tSolution = aide-toi, le ciel t’a , Valeur = -57.64859628098911\n",
      "\n",
      "\tProverbe incomplet: année de gelée, *** de blé , Options: ['année', 'faute', 'années', 'et']\n",
      "\tSolution = année de gelée, et de blé , Valeur = -60.251757181339876\n",
      "\n",
      " Exactitude avec n = 1 et le critère 'logprob' : 0.2391304347826087\n",
      "\n",
      "\tProverbe incomplet: a beau *** qui vient de loin , Options: ['mentir', 'prêcher', 'temps', 'visage']\n",
      "\tSolution = a beau temps qui vient de loin , Valeur = 1192.898700326167\n",
      "\n",
      "\tProverbe incomplet: l’occasion fait le *** , Options: ['larron', 'malin', 'bonheur', 'pouvoir']\n",
      "\tSolution = l’occasion fait le bonheur , Valeur = 364.8245246304567\n",
      "\n",
      "\tProverbe incomplet: aide-toi, le ciel t’*** , Options: ['aidera', 'a', 'en', 'armera']\n",
      "\tSolution = aide-toi, le ciel t’a , Valeur = 442.498038162677\n",
      "\n",
      "\tProverbe incomplet: année de gelée, *** de blé , Options: ['année', 'faute', 'années', 'et']\n",
      "\tSolution = année de gelée, et de blé , Valeur = 646.8734363337387\n",
      "\n",
      " Exactitude avec n = 2 et le critère 'perplexity' : 0.5\n",
      "\n",
      "\tProverbe incomplet: a beau *** qui vient de loin , Options: ['mentir', 'prêcher', 'temps', 'visage']\n",
      "\tSolution = a beau temps qui vient de loin , Valeur = -61.32153492471893\n",
      "\n",
      "\tProverbe incomplet: l’occasion fait le *** , Options: ['larron', 'malin', 'bonheur', 'pouvoir']\n",
      "\tSolution = l’occasion fait le bonheur , Valeur = -42.55529452475154\n",
      "\n",
      "\tProverbe incomplet: aide-toi, le ciel t’*** , Options: ['aidera', 'a', 'en', 'armera']\n",
      "\tSolution = aide-toi, le ciel t’a , Valeur = -52.737163492340784\n",
      "\n",
      "\tProverbe incomplet: année de gelée, *** de blé , Options: ['année', 'faute', 'années', 'et']\n",
      "\tSolution = année de gelée, et de blé , Valeur = -56.024037959388885\n",
      "\n",
      " Exactitude avec n = 2 et le critère 'logprob' : 0.5\n",
      "\n",
      "\tProverbe incomplet: aide-toi, le ciel t’*** , Options: ['aidera', 'a', 'en', 'armera']\n",
      "\tSolution = aide-toi, le ciel t’en , Valeur = 1801.4973065309157\n",
      "\n",
      "\tProverbe incomplet: ce n’est pas tous les jours *** , Options: ['fête', 'pâques', 'dangereux', 'noces']\n",
      "\tSolution = ce n’est pas tous les jours fête , Valeur = 424.78292287691187\n",
      "\n",
      "\tProverbe incomplet: à qui dieu aide, *** ne peut nuire , Options: ['nul', 'on', 'qui', 'rien']\n",
      "\tSolution = à qui dieu aide, on ne peut nuire , Valeur = 1453.2411525058822\n",
      "\n",
      "\tProverbe incomplet: il n’y a *** de rose de cent jours , Options: ['point', 'pas', 'rien', 'toujours']\n",
      "\tSolution = il n’y a pas de rose de cent jours , Valeur = 426.3212829967723\n",
      "\n",
      " Exactitude avec n = 3 et le critère 'perplexity' : 0.8913043478260869\n",
      "\n",
      "\tProverbe incomplet: aide-toi, le ciel t’*** , Options: ['aidera', 'a', 'en', 'armera']\n",
      "\tSolution = aide-toi, le ciel t’en , Valeur = -54.074903897073185\n",
      "\n",
      "\tProverbe incomplet: ce n’est pas tous les jours *** , Options: ['fête', 'pâques', 'dangereux', 'noces']\n",
      "\tSolution = ce n’est pas tous les jours fête , Valeur = -61.11407370499545\n",
      "\n",
      "\tProverbe incomplet: à qui dieu aide, *** ne peut nuire , Options: ['nul', 'on', 'qui', 'rien']\n",
      "\tSolution = à qui dieu aide, on ne peut nuire , Valeur = -73.53540886979286\n",
      "\n",
      "\tProverbe incomplet: il n’y a *** de rose de cent jours , Options: ['point', 'pas', 'rien', 'toujours']\n",
      "\tSolution = il n’y a pas de rose de cent jours , Valeur = -78.62217542752143\n",
      "\n",
      " Exactitude avec n = 3 et le critère 'logprob' : 0.8913043478260869\n",
      "\n",
      "\tProverbe incomplet: ce n’est pas tous les jours *** , Options: ['fête', 'pâques', 'dangereux', 'noces']\n",
      "\tSolution = ce n’est pas tous les jours fête , Valeur = 786.3661725235031\n",
      "\n",
      "\tProverbe incomplet: il n’y a *** de rose de cent jours , Options: ['point', 'pas', 'rien', 'toujours']\n",
      "\tSolution = il n’y a pas de rose de cent jours , Valeur = 672.7258661676785\n",
      "\n",
      "\tProverbe incomplet: on ne *** pas le poisson qui est encore dans la mer , Options: ['vend', 'prend', 'connaît', 'perd']\n",
      "\tSolution = on ne perd pas le poisson qui est encore dans la mer , Valeur = 2207.586092645389\n",
      "\n",
      " Exactitude avec n = 4 et le critère 'perplexity' : 0.9347826086956522\n",
      "\n",
      "\tProverbe incomplet: ce n’est pas tous les jours *** , Options: ['fête', 'pâques', 'dangereux', 'noces']\n",
      "\tSolution = ce n’est pas tous les jours fête , Valeur = -57.714344710258544\n",
      "\n",
      "\tProverbe incomplet: il n’y a *** de rose de cent jours , Options: ['point', 'pas', 'rien', 'toujours']\n",
      "\tSolution = il n’y a pas de rose de cent jours , Valeur = -75.1509993626441\n",
      "\n",
      "\tProverbe incomplet: on ne *** pas le poisson qui est encore dans la mer , Options: ['vend', 'prend', 'connaît', 'perd']\n",
      "\tSolution = on ne perd pas le poisson qui est encore dans la mer , Valeur = -99.97428587976266\n",
      "\n",
      " Exactitude avec n = 4 et le critère 'logprob' : 0.9347826086956522\n"
     ]
    }
   ],
   "source": [
    "execfile(\"t2_completer_proverbes.py\")"
   ]
  },
  {
   "cell_type": "markdown",
   "metadata": {},
   "source": [
    "## TÂCHE 3 "
   ]
  },
  {
   "cell_type": "markdown",
   "metadata": {},
   "source": [
    "### Naif bayes / word"
   ]
  },
  {
   "cell_type": "code",
   "execution_count": null,
   "metadata": {},
   "outputs": [
    {
     "name": "stdout",
     "output_type": "stream",
     "text": [
      "Mots les plus importants pour la classe pos\n",
      "['excellent', 'wonderful', 'quiet', 'highly', 'perfect', 'helpful', 'beautiful', 'war', 'modern', 'walk']\n",
      "Mots les plus importants pour la classe neg\n",
      "['waste', 'worst', 'terrible', 'boring', 'stupid', 'worse', 'poor', 'asked', 'supposed', 'bad']\n",
      "Résultats avec la méthode NB / words :\n",
      "Accuracy - entraînement:  0.8151666666666667\n",
      "Accuracy - test:  0.8155487804878049\n",
      "Matrice de confusion:  [[801 181]\n",
      " [182 804]]\n",
      "\n",
      "Temps d'exécution de train_and_test_classifier : 2.3932986510000003\n"
     ]
    }
   ],
   "source": [
    "model = 'NB'\n",
    "normalization = 'words'\n",
    "#execfile(\"t3_analyse_sentiment.py\")\n",
    "%run -i \"t3_analyse_sentiment.py\""
   ]
  },
  {
   "cell_type": "markdown",
   "metadata": {},
   "source": [
    "### Naif bayes / lemmatisation"
   ]
  },
  {
   "cell_type": "code",
   "execution_count": null,
   "metadata": {},
   "outputs": [
    {
     "name": "stdout",
     "output_type": "stream",
     "text": [
      "Mots les plus importants pour la classe pos\n",
      "['excellent', 'wonderful', 'perfect', 'helpful', 'war', 'beautiful', 'great', 'enjoy', 'life', 'friendly']\n",
      "Mots les plus importants pour la classe neg\n",
      "['waste', 'terrible', 'boring', 'stupid', 'bad', 'poor', 'suppose', 'ok', 'desk', 'guess']\n",
      "Résultats avec la méthode NB / lemma :\n",
      "Accuracy - entraînement:  0.817\n",
      "Accuracy - test:  0.8170731707317073\n",
      "Matrice de confusion:  [[807 175]\n",
      " [185 801]]\n",
      "\n",
      "Temps d'exécution de train_and_test_classifier : 324.4687613639999\n"
     ]
    }
   ],
   "source": [
    "model = 'NB'\n",
    "normalization = 'lemma'\n",
    "#execfile(\"t3_analyse_sentiment.py\")\n",
    "%run -i \"t3_analyse_sentiment.py\""
   ]
  },
  {
   "cell_type": "markdown",
   "metadata": {},
   "source": [
    "### Naif bayes / stemming"
   ]
  },
  {
   "cell_type": "code",
   "execution_count": null,
   "metadata": {},
   "outputs": [
    {
     "name": "stdout",
     "output_type": "stream",
     "text": [
      "Mots les plus importants pour la classe pos\n",
      "['excel', 'perfect', 'beauti', 'war', 'great', 'life', 'alien', 'enjoy', 'love', 'power']\n",
      "Mots les plus importants pour la classe neg\n",
      "['wast', 'worst', 'terribl', 'bore', 'poor', 'bad', 'suppos', 'told', 'disappoint', 'desk']\n",
      "Résultats avec la méthode NB / stem :\n",
      "Accuracy - entraînement:  0.817\n",
      "Accuracy - test:  0.8109756097560976\n",
      "Matrice de confusion:  [[806 176]\n",
      " [196 790]]\n",
      "\n",
      "Temps d'exécution de train_and_test_classifier : 49.7059764239998\n"
     ]
    }
   ],
   "source": [
    "model = 'NB'\n",
    "normalization = 'stem'\n",
    "#execfile(\"t3_analyse_sentiment.py\")\n",
    "%run -i \"t3_analyse_sentiment.py\""
   ]
  },
  {
   "cell_type": "markdown",
   "metadata": {},
   "source": [
    "### Reg Log / words"
   ]
  },
  {
   "cell_type": "code",
   "execution_count": null,
   "metadata": {},
   "outputs": [
    {
     "name": "stdout",
     "output_type": "stream",
     "text": [
      "Mots les plus importants pour la classe pos\n",
      "            Mots   pos\n",
      "15250  excellent  0.93\n",
      "47595  wonderful  0.69\n",
      "31652    perfect  0.69\n",
      "16029   favorite  0.69\n",
      "20105    helpful  0.65\n",
      "20307     highly  0.63\n",
      "14553    enjoyed  0.62\n",
      "2238     amazing  0.61\n",
      "18899      great  0.58\n",
      "25649     lovely  0.53\n",
      "Mots les plus importants pour la classe neg\n",
      "                Mots   pos\n",
      "5717          boring -0.92\n",
      "46827          waste -0.85\n",
      "47731          worst -0.84\n",
      "45165  unfortunately -0.75\n",
      "12390  disappointing -0.74\n",
      "32720           poor -0.73\n",
      "42886       terrible -0.72\n",
      "12389   disappointed -0.72\n",
      "3933             bad -0.63\n",
      "3800           awful -0.63\n",
      "Résultats avec la méthode LR / words :\n",
      "Accuracy - entraînement:  0.8336666666666668\n",
      "Accuracy - test:  0.8460365853658537\n",
      "Matrice de confusion:  [[831 151]\n",
      " [152 834]]\n",
      "\n",
      "Temps d'exécution de train_and_test_classifier : 4.877469465000104\n"
     ]
    }
   ],
   "source": [
    "model = 'LR'\n",
    "normalization = 'words'\n",
    "%run -i \"t3_analyse_sentiment.py\"\n",
    "#execfile(\"t3_analyse_sentiment.py\")"
   ]
  },
  {
   "cell_type": "markdown",
   "metadata": {},
   "source": [
    "### Reg Log / Stemming"
   ]
  },
  {
   "cell_type": "code",
   "execution_count": null,
   "metadata": {},
   "outputs": [
    {
     "name": "stdout",
     "output_type": "stream",
     "text": [
      "Mots les plus importants pour la classe pos\n",
      "['terrif', '41', 'favourit', 'intens', 'oasi', 'excel', 'beginn', 'bonu', 'veneto', 'blend']\n",
      "Mots les plus importants pour la classe neg\n",
      "['wast', 'insult', 'buffett', 'terribl', 'aw', 'worst', 'justifi', 'bland', 'unfortun', 'snobbi']\n",
      "Résultats avec la méthode LR / stem :\n",
      "Accuracy - entraînement:  0.8225\n",
      "Accuracy - test:  0.8313008130081301\n",
      "Matrice de confusion:  [[816 166]\n",
      " [166 820]]\n",
      "\n",
      "Temps d'exécution de train_and_test_classifier : 54.08981780799968\n"
     ]
    }
   ],
   "source": [
    "model = 'LR'\n",
    "normalization = 'stem'\n",
    "%run -i \"t3_analyse_sentiment.py\"\n",
    "#execfile(\"t3_analyse_sentiment.py\")"
   ]
  },
  {
   "cell_type": "markdown",
   "metadata": {},
   "source": [
    "### Reg Log / Lemma"
   ]
  },
  {
   "cell_type": "code",
   "execution_count": null,
   "metadata": {},
   "outputs": [
    {
     "name": "stdout",
     "output_type": "stream",
     "text": [
      "Résultats avec la méthode LR / lemma :\n",
      "Accuracy - entraînement:  0.8373333333333333\n",
      "Accuracy - test:  0.8455284552845529\n",
      "Matrice de confusion:  [[833 149]\n",
      " [155 831]]\n",
      "\n",
      "Temps d'exécution de train_and_test_classifier : 310.6001361969975\n"
     ]
    }
   ],
   "source": [
    "model = 'LR'\n",
    "normalization = 'lemma'\n",
    "%run -i \"t3_analyse_sentiment.py\"\n",
    "#execfile(\"t3_analyse_sentiment.py\")"
   ]
  },
  {
   "cell_type": "markdown",
   "metadata": {},
   "source": [
    "## Tache 4"
   ]
  },
  {
   "cell_type": "code",
   "execution_count": null,
   "metadata": {},
   "outputs": [
    {
     "name": "stdout",
     "output_type": "stream",
     "text": [
      " Nombre de noms d'origine Czech : 519 -> 2.6% des données\n",
      " Nombre de noms d'origine German : 724 -> 3.6% des données\n",
      " Nombre de noms d'origine Arabic : 2000 -> 10.0% des données\n",
      " Nombre de noms d'origine Japanese : 991 -> 4.9% des données\n",
      " Nombre de noms d'origine Chinese : 268 -> 1.3% des données\n",
      " Nombre de noms d'origine Vietnamese : 73 -> 0.4% des données\n",
      " Nombre de noms d'origine Russian : 9408 -> 46.9% des données\n",
      " Nombre de noms d'origine French : 277 -> 1.4% des données\n",
      " Nombre de noms d'origine Irish : 232 -> 1.2% des données\n",
      " Nombre de noms d'origine English : 3668 -> 18.3% des données\n",
      " Nombre de noms d'origine Spanish : 298 -> 1.5% des données\n",
      " Nombre de noms d'origine Greek : 203 -> 1.0% des données\n",
      " Nombre de noms d'origine Italian : 709 -> 3.5% des données\n",
      " Nombre de noms d'origine Portuguese : 74 -> 0.4% des données\n",
      " Nombre de noms d'origine Scottish : 100 -> 0.5% des données\n",
      " Nombre de noms d'origine Dutch : 297 -> 1.5% des données\n",
      " Nombre de noms d'origine Korean : 94 -> 0.5% des données\n",
      " Nombre de noms d'origine Polish : 139 -> 0.7% des données\n",
      "Total names 20074\n",
      "\n",
      "Accuracy en entraînement pour NB / 1-gram = 0.5475276507317787\n",
      "\n",
      "Accuracy en test pour NB / 1-gram = 0.16111111111111112\n",
      "\n",
      "Accuracy en entraînement pour NB / 2-gram = 0.6877575186721939\n",
      "\n",
      "Accuracy en test pour NB / 2-gram = 0.4\n",
      "\n",
      "Accuracy en entraînement pour NB / 3-gram = 0.7034986761775877\n",
      "\n",
      "Accuracy en test pour NB / 3-gram = 0.37777777777777777\n",
      "\n",
      "Accuracy en entraînement pour NB / multi-gram = 0.7077336296809238\n",
      "\n",
      "Accuracy en test pour NB / multi-gram = 0.36666666666666664\n",
      "\n",
      "Accuracy en entraînement pour LR / 1-gram = 0.617268936058788\n",
      "\n",
      "Accuracy en test pour LR / 1-gram = 0.25555555555555554\n",
      "\n",
      "Accuracy en entraînement pour LR / 2-gram = 0.7269604205951647\n",
      "\n",
      "Accuracy en test pour LR / 2-gram = 0.5333333333333333\n",
      "\n",
      "Accuracy en entraînement pour LR / 3-gram = 0.7344830205116464\n",
      "\n",
      "Accuracy en test pour LR / 3-gram = 0.5222222222222223\n",
      "\n",
      "Accuracy en entraînement pour LR / multi-gram = 0.747137223950296\n",
      "\n",
      "Accuracy en test pour LR / multi-gram = 0.6555555555555556\n",
      "{'Arabic': ['ou', 'gab', 'our', 'nad', 'tah', 'tum', 'em', 'gh', 'qur', 'sle'], 'Chinese': ['ao', 'zh', 'ong', 'ai', 'an', 'ng', 'sh', 'ua', 'eng', 'iu'], 'Czech': ['k', 'ova', 'tsc', 'l', 'tl', 'cer', 'j', 'p', 'ovy', 'ej'], 'Dutch': ['aa', 'ij', 'oo', 'ee', 'aar', 'out', 'omp', 'k', 'sn', 'mpa'], 'English': ['bb', 'oa', 'gg', 'll', 'nan', 'ton', 'am', 'ou', 'd', 'ow'], 'French': ['au', 'ier', 'on', 'oi', 'eau', 'net', 'aud', 'eni', 'fa', 'gag'], 'German': ['vo', 'au', 'tz', 'aas', 'nz', 'ei', 'h', 'sch', 'gro', 'we'], 'Greek': ['s', 'os', 'ou', 'is', 'as', 'o', 'a', 'ri', 'clo', 'ts'], 'Irish': [\"o'\", 'dh', \"'\", 'ea', 'n', 'bh', 'c', 'ao', 'evi', 'mh'], 'Italian': ['i', 'o', 'ni', 'a', 'na', 'no', 'sc', 'ti', 'zz', 'ne'], 'Japanese': ['i', 'o', 'da', 'tsu', 'su', 'ta', 'u', 'sa', 'hi', 'fu'], 'Korean': ['eo', 'ang', 'ee', 'yo', 'ng', 'cho', 'rhe', 'oo', 'pa', 'yu'], 'Polish': ['ek', 'k', 'z', 'w', 'sz', 'j', 'ski', 'cz', 'ia', 'ie'], 'Portuguese': ['es', 'o', 'ei', 'elo', 'mat', 'eir', 'uz', 'san', 'rro', 'a'], 'Russian': ['v', 'ts', 'aw', 'in', 'zh', 'sky', 'ik', 'uk', 'tal', 'j'], 'Scottish': ['ay', 'w', 'son', 'ke', 'c', 'mc', 'll', 'r', 'ken', 'ug'], 'Spanish': ['ez', 'a', 'o', 'z', 'dez', 'vi', 'es', 'pu', 'tos', 'rer'], 'Vietnamese': ['ph', 'nh', 'ng', 'tr', 'ie', 'uon', 'tha', 'ieu', 'oan', 'th']}\n"
     ]
    }
   ],
   "source": [
    "execfile(\"t4_classification_noms.py\")"
   ]
  },
  {
   "cell_type": "code",
   "execution_count": null,
   "metadata": {},
   "outputs": [
    {
     "data": {
      "text/plain": [
       "['fjbsfj', 'dnsjkf', 'djsqk']"
      ]
     },
     "execution_count": 37,
     "metadata": {},
     "output_type": "execute_result"
    }
   ],
   "source": [
    "import re \n",
    "import numpy as np\n",
    "names = ['fjbsfj ', 'dnsjkf', ' djsqk']\n",
    "[re.sub(r'^\\s|\\s$', '', name) for name in names]"
   ]
  },
  {
   "cell_type": "code",
   "execution_count": null,
   "metadata": {},
   "outputs": [],
   "source": [
    "df_dict = dict()\n",
    "vectorizer = Vectorizers[str(ngram_length)+\"-gram\"]\n",
    "df = pd.DataFrame(vectorizer.get_feature_names(), columns =['N-grammes']) \n",
    "\n",
    "for i in range(len(classifier.classes_)):\n",
    "        c = classifier.classes_[i]\n",
    "        df[c] = list(classifier.coef_[i])\n",
    "        df_dict[c] = list(df.sort_values(by=c, ascending=False)[0:50]['N-grammes'])"
   ]
  },
  {
   "cell_type": "code",
   "execution_count": null,
   "metadata": {},
   "outputs": [
    {
     "name": "stdout",
     "output_type": "stream",
     "text": [
      "\\hline Arabic &  \\verb@ou@, \\verb@gab@, \\verb@our@, \\verb@nad@, \\verb@tah@, \\verb@tum@, \\verb@em@, \\verb@gh@, \\verb@qur@, \\verb@sle@, \\verb@if@, \\verb@tom@, \\verb@rco@, \\verb@lib@, \\verb@eim@, \\verb@ham@, \\verb@nim@, \\verb@eeb@, \\verb@wad@, \\verb@orc@, \\verb@ury@, \\verb@aik@, \\verb@sih@, \\verb@lei@, \\verb@naa@, \\verb@abe@, \\verb@dah@, \\verb@hai@, \\verb@dal@, \\verb@dee@, \\verb@aan@, \\verb@ges@, \\verb@tro@, \\verb@er@, \\verb@nem@, \\verb@att@, \\verb@cos@, \\verb@sar@, \\verb@ske@, \\verb@oo@, \\verb@dad@, \\verb@oun@, \\verb@ase@, \\verb@baz@, \\verb@sl@, \\verb@ssa@, \\verb@gan@, \\verb@ask@, \\verb@ssi@, \\verb@had@ \\\\\n",
      "\\hline Chinese &  \\verb@ao@, \\verb@zh@, \\verb@ong@, \\verb@ai@, \\verb@an@, \\verb@ng@, \\verb@sh@, \\verb@ua@, \\verb@eng@, \\verb@iu@, \\verb@ia@, \\verb@ts@, \\verb@zha@, \\verb@ji@, \\verb@uo@, \\verb@uan@, \\verb@he@, \\verb@yin@, \\verb@sha@, \\verb@ya@, \\verb@ie@, \\verb@kw@, \\verb@tse@, \\verb@oo@, \\verb@set@, \\verb@xi@, \\verb@jin@, \\verb@sam@, \\verb@mar@, \\verb@auk@, \\verb@hie@, \\verb@iao@, \\verb@ui@, \\verb@mak@, \\verb@joe@, \\verb@ian@, \\verb@the@, \\verb@ou@, \\verb@ran@, \\verb@hor@, \\verb@se@, \\verb@yee@, \\verb@w@, \\verb@la@, \\verb@kh@, \\verb@bai@, \\verb@ew@, \\verb@teo@, \\verb@eoh@, \\verb@dai@ \\\\\n",
      "\\hline Czech &  \\verb@k@, \\verb@ova@, \\verb@tsc@, \\verb@l@, \\verb@tl@, \\verb@cer@, \\verb@j@, \\verb@p@, \\verb@ovy@, \\verb@ej@, \\verb@obe@, \\verb@ek@, \\verb@nf@, \\verb@ne@, \\verb@rse@, \\verb@bor@, \\verb@z@, \\verb@mal@, \\verb@ei@, \\verb@wei@, \\verb@eza@, \\verb@eis@, \\verb@v@, \\verb@ze@, \\verb@ise@, \\verb@ov@, \\verb@eic@, \\verb@ora@, \\verb@rab@, \\verb@hr@, \\verb@vl@, \\verb@iha@, \\verb@c@, \\verb@pai@, \\verb@jir@, \\verb@sk@, \\verb@zel@, \\verb@lok@, \\verb@lik@, \\verb@si@, \\verb@eg@, \\verb@kes@, \\verb@ny@, \\verb@eie@, \\verb@sch@, \\verb@fe@, \\verb@nav@, \\verb@fen@, \\verb@ik@, \\verb@st@ \\\\\n",
      "\\hline Dutch &  \\verb@aa@, \\verb@ij@, \\verb@oo@, \\verb@ee@, \\verb@aar@, \\verb@out@, \\verb@omp@, \\verb@k@, \\verb@sn@, \\verb@mpa@, \\verb@can@, \\verb@ae@, \\verb@tun@, \\verb@bu@, \\verb@sse@, \\verb@ho@, \\verb@sch@, \\verb@onk@, \\verb@oe@, \\verb@kl@, \\verb@nne@, \\verb@nif@, \\verb@rin@, \\verb@ift@, \\verb@uw@, \\verb@oni@, \\verb@ven@, \\verb@ren@, \\verb@gt@, \\verb@nra@, \\verb@um@, \\verb@dri@, \\verb@n@, \\verb@en@, \\verb@hou@, \\verb@als@, \\verb@hau@, \\verb@sev@, \\verb@seg@, \\verb@ann@, \\verb@ker@, \\verb@dal@, \\verb@s@, \\verb@oos@, \\verb@ui@, \\verb@oor@, \\verb@pey@, \\verb@dae@, \\verb@der@, \\verb@arl@ \\\\\n",
      "\\hline English &  \\verb@bb@, \\verb@oa@, \\verb@gg@, \\verb@ll@, \\verb@nan@, \\verb@ton@, \\verb@am@, \\verb@ou@, \\verb@d@, \\verb@ow@, \\verb@haw@, \\verb@ley@, \\verb@jen@, \\verb@op@, \\verb@kha@, \\verb@ea@, \\verb@mbe@, \\verb@w@, \\verb@tag@, \\verb@ove@, \\verb@vis@, \\verb@oo@, \\verb@ash@, \\verb@oha@, \\verb@ali@, \\verb@ay@, \\verb@ic@, \\verb@ks@, \\verb@y@, \\verb@ox@, \\verb@ain@, \\verb@ish@, \\verb@au@, \\verb@aso@, \\verb@ook@, \\verb@ugh@, \\verb@ir@, \\verb@tt@, \\verb@mc@, \\verb@nha@, \\verb@is@, \\verb@lm@, \\verb@av@, \\verb@lif@, \\verb@iel@, \\verb@t@, \\verb@nks@, \\verb@or@, \\verb@n@, \\verb@nor@ \\\\\n",
      "\\hline French &  \\verb@au@, \\verb@ier@, \\verb@on@, \\verb@oi@, \\verb@eau@, \\verb@net@, \\verb@aud@, \\verb@eni@, \\verb@fa@, \\verb@gag@, \\verb@bon@, \\verb@roy@, \\verb@x@, \\verb@age@, \\verb@mas@, \\verb@in@, \\verb@gos@, \\verb@tai@, \\verb@gn@, \\verb@ou@, \\verb@t@, \\verb@yer@, \\verb@koz@, \\verb@rko@, \\verb@pa@, \\verb@y@, \\verb@le@, \\verb@e@, \\verb@bel@, \\verb@av@, \\verb@ris@, \\verb@vi@, \\verb@iau@, \\verb@is@, \\verb@l@, \\verb@oz@, \\verb@gir@, \\verb@re@, \\verb@bia@, \\verb@cha@, \\verb@he@, \\verb@la@, \\verb@ega@, \\verb@agn@, \\verb@oux@, \\verb@noe@, \\verb@ain@, \\verb@sso@, \\verb@tra@, \\verb@ois@ \\\\\n",
      "\\hline German &  \\verb@vo@, \\verb@au@, \\verb@tz@, \\verb@aas@, \\verb@nz@, \\verb@ei@, \\verb@h@, \\verb@sch@, \\verb@gro@, \\verb@we@, \\verb@w@, \\verb@st@, \\verb@ie@, \\verb@k@, \\verb@man@, \\verb@wir@, \\verb@enz@, \\verb@jun@, \\verb@lor@, \\verb@ig@, \\verb@aa@, \\verb@ann@, \\verb@ohm@, \\verb@koc@, \\verb@lle@, \\verb@itz@, \\verb@b@, \\verb@nth@, \\verb@int@, \\verb@rsl@, \\verb@sc@, \\verb@got@, \\verb@r@, \\verb@hr@, \\verb@esh@, \\verb@l@, \\verb@has@, \\verb@f@, \\verb@tne@, \\verb@hei@, \\verb@bra@, \\verb@nn@, \\verb@oe@, \\verb@pp@, \\verb@kn@, \\verb@cke@, \\verb@iet@, \\verb@itt@, \\verb@org@, \\verb@hl@ \\\\\n",
      "\\hline Greek &  \\verb@s@, \\verb@os@, \\verb@ou@, \\verb@is@, \\verb@as@, \\verb@o@, \\verb@a@, \\verb@ri@, \\verb@clo@, \\verb@ts@, \\verb@k@, \\verb@li@, \\verb@p@, \\verb@omi@, \\verb@los@, \\verb@tou@, \\verb@cl@, \\verb@i@, \\verb@kis@, \\verb@ni@, \\verb@dis@, \\verb@ino@, \\verb@eat@, \\verb@lis@, \\verb@uss@, \\verb@tsa@, \\verb@l@, \\verb@dem@, \\verb@ko@, \\verb@mi@, \\verb@kr@, \\verb@urn@, \\verb@min@, \\verb@nos@, \\verb@com@, \\verb@ak@, \\verb@kok@, \\verb@es@, \\verb@ela@, \\verb@ho@, \\verb@ias@, \\verb@ge@, \\verb@mou@, \\verb@rna@, \\verb@t@, \\verb@e@, \\verb@ja@, \\verb@aki@, \\verb@g@, \\verb@tes@ \\\\\n",
      "\\hline Irish &  \\verb@o'@, \\verb@dh@, \\verb@'@, \\verb@ea@, \\verb@n@, \\verb@bh@, \\verb@c@, \\verb@ao@, \\verb@evi@, \\verb@mh@, \\verb@gh@, \\verb@ll@, \\verb@bra@, \\verb@ain@, \\verb@y@, \\verb@eag@, \\verb@io@, \\verb@h@, \\verb@ia@, \\verb@d@, \\verb@oi@, \\verb@adh@, \\verb@wh@, \\verb@bha@, \\verb@ke@, \\verb@eoi@, \\verb@pow@, \\verb@br@, \\verb@orm@, \\verb@oda@, \\verb@ey@, \\verb@rad@, \\verb@ror@, \\verb@inn@, \\verb@eil@, \\verb@vin@, \\verb@rk@, \\verb@gis@, \\verb@nn@, \\verb@wer@, \\verb@iv@, \\verb@cat@, \\verb@ua@, \\verb@oin@, \\verb@fl@, \\verb@us@, \\verb@lli@, \\verb@lan@, \\verb@hy@, \\verb@mes@ \\\\\n",
      "\\hline Italian &  \\verb@i@, \\verb@o@, \\verb@ni@, \\verb@a@, \\verb@na@, \\verb@no@, \\verb@sc@, \\verb@ti@, \\verb@zz@, \\verb@ne@, \\verb@ghi@, \\verb@ell@, \\verb@ond@, \\verb@de @, \\verb@gh@, \\verb@si@, \\verb@cc@, \\verb@ro@, \\verb@gli@, \\verb@bov@, \\verb@to@, \\verb@eri@, \\verb@llo@, \\verb@e @, \\verb@ese@, \\verb@ggi@, \\verb@di@, \\verb@lu@, \\verb@rch@, \\verb@nz@, \\verb@rdi@, \\verb@ug@, \\verb@rto@, \\verb@gg@, \\verb@one@, \\verb@vi@, \\verb@so@, \\verb@se@, \\verb@sp@, \\verb@ini@, \\verb@ett@, \\verb@bba@, \\verb@ove@, \\verb@hi@, \\verb@mur@, \\verb@c@, \\verb@ss@, \\verb@te@, \\verb@du@, \\verb@elm@ \\\\\n",
      "\\hline Japanese &  \\verb@i@, \\verb@o@, \\verb@da@, \\verb@tsu@, \\verb@su@, \\verb@ta@, \\verb@u@, \\verb@sa@, \\verb@hi@, \\verb@fu@, \\verb@a@, \\verb@yam@, \\verb@ka@, \\verb@no@, \\verb@se@, \\verb@sh@, \\verb@ya@, \\verb@wa@, \\verb@ki@, \\verb@ku@, \\verb@aru@, \\verb@aka@, \\verb@na@, \\verb@ra@, \\verb@mur@, \\verb@nag@, \\verb@ina@, \\verb@nd@, \\verb@nar@, \\verb@shi@, \\verb@ji@, \\verb@chi@, \\verb@ke@, \\verb@ndo@, \\verb@awa@, \\verb@oru@, \\verb@so@, \\verb@uro@, \\verb@ara@, \\verb@e@, \\verb@kur@, \\verb@shu@, \\verb@ham@, \\verb@aga@, \\verb@sas@, \\verb@era@, \\verb@rri@, \\verb@zu@, \\verb@rub@, \\verb@nsh@ \\\\\n",
      "\\hline Korean &  \\verb@eo@, \\verb@ang@, \\verb@ee@, \\verb@yo@, \\verb@ng@, \\verb@cho@, \\verb@rhe@, \\verb@oo@, \\verb@pa@, \\verb@yu@, \\verb@hee@, \\verb@su@, \\verb@hin@, \\verb@lee@, \\verb@bai@, \\verb@nam@, \\verb@rh@, \\verb@ai@, \\verb@so@, \\verb@hw@, \\verb@jon@, \\verb@shi@, \\verb@gil@, \\verb@yoo@, \\verb@tsa@, \\verb@kwa@, \\verb@nga@, \\verb@pae@, \\verb@yeo@, \\verb@ch@, \\verb@hun@, \\verb@ryo@, \\verb@im@, \\verb@yi@, \\verb@eon@, \\verb@seo@, \\verb@sho@, \\verb@ahn@, \\verb@ae@, \\verb@aik@, \\verb@ban@, \\verb@kw@, \\verb@noh@, \\verb@byo@, \\verb@hoe@, \\verb@wa@, \\verb@jeo@, \\verb@sin@, \\verb@san@, \\verb@gwa@ \\\\\n",
      "\\hline Polish &  \\verb@ek@, \\verb@k@, \\verb@z@, \\verb@w@, \\verb@sz@, \\verb@j@, \\verb@ski@, \\verb@cz@, \\verb@ia@, \\verb@ie@, \\verb@je@, \\verb@ol@, \\verb@sk@, \\verb@mie@, \\verb@mi@, \\verb@og@, \\verb@tk@, \\verb@go@, \\verb@jez@, \\verb@lis@, \\verb@mal@, \\verb@kav@, \\verb@gor@, \\verb@sla@, \\verb@ny@, \\verb@sl@, \\verb@rna@, \\verb@oko@, \\verb@rz@, \\verb@sok@, \\verb@fi@, \\verb@rog@, \\verb@aly@, \\verb@cki@, \\verb@te@, \\verb@iat@, \\verb@me@, \\verb@s@, \\verb@omo@, \\verb@enc@, \\verb@are@, \\verb@tko@, \\verb@c@, \\verb@rol@, \\verb@ele@, \\verb@aut@, \\verb@ava@, \\verb@jel@, \\verb@dny@, \\verb@men@ \\\\\n",
      "\\hline Portuguese &  \\verb@es@, \\verb@o@, \\verb@ei@, \\verb@elo@, \\verb@mat@, \\verb@eir@, \\verb@uz@, \\verb@san@, \\verb@rro@, \\verb@a@, \\verb@inh@, \\verb@nh@, \\verb@pin@, \\verb@nt@, \\verb@nho@, \\verb@rau@, \\verb@nun@, \\verb@me@, \\verb@rio@, \\verb@gas@, \\verb@une@, \\verb@u@, \\verb@lh@, \\verb@cru@, \\verb@lv@, \\verb@eno@, \\verb@ca@, \\verb@ruz@, \\verb@cr@, \\verb@eu@, \\verb@nde@, \\verb@ta@, \\verb@fim@, \\verb@s@, \\verb@mao@, \\verb@abr@, \\verb@ant@, \\verb@lob@, \\verb@ga@, \\verb@ir@, \\verb@ve@, \\verb@pi@, \\verb@dua@, \\verb@r@, \\verb@ado@, \\verb@ilv@, \\verb@el@, \\verb@nu@, \\verb@ia@, \\verb@c@ \\\\\n",
      "\\hline Russian &  \\verb@v@, \\verb@ts@, \\verb@aw@, \\verb@in@, \\verb@zh@, \\verb@sky@, \\verb@ik@, \\verb@uk@, \\verb@tal@, \\verb@j@, \\verb@h@, \\verb@ov@, \\verb@ya@, \\verb@ak@, \\verb@ba@, \\verb@lap@, \\verb@ih@, \\verb@ch@, \\verb@enk@, \\verb@bir@, \\verb@sea@, \\verb@abr@, \\verb@kab@, \\verb@sk@, \\verb@get@, \\verb@py@, \\verb@rem@, \\verb@ev@, \\verb@nts@, \\verb@us@, \\verb@nin@, \\verb@gor@, \\verb@ler@, \\verb@ges@, \\verb@dau@, \\verb@off@, \\verb@bak@, \\verb@nen@, \\verb@pel@, \\verb@nko@, \\verb@ese@, \\verb@aue@, \\verb@sak@, \\verb@eme@, \\verb@tok@, \\verb@gin@, \\verb@gal@, \\verb@ota@, \\verb@esi@, \\verb@chu@ \\\\\n",
      "\\hline Scottish &  \\verb@ay@, \\verb@w@, \\verb@son@, \\verb@ke@, \\verb@c@, \\verb@mc@, \\verb@ll@, \\verb@r@, \\verb@ken@, \\verb@ug@, \\verb@gra@, \\verb@mil@, \\verb@say@, \\verb@ell@, \\verb@y@, \\verb@cl@, \\verb@rns@, \\verb@on@, \\verb@cra@, \\verb@ack@, \\verb@so@, \\verb@bel@, \\verb@cks@, \\verb@one@, \\verb@ris@, \\verb@acl@, \\verb@rso@, \\verb@lea@, \\verb@cam@, \\verb@ean@, \\verb@sco@, \\verb@m@, \\verb@sha@, \\verb@ie@, \\verb@nst@, \\verb@eid@, \\verb@hay@, \\verb@boy@, \\verb@mac@, \\verb@nde@, \\verb@ac@, \\verb@wat@, \\verb@yl@, \\verb@cot@, \\verb@urn@, \\verb@fra@, \\verb@ugl@, \\verb@kin@, \\verb@hug@, \\verb@ras@ \\\\\n",
      "\\hline Spanish &  \\verb@ez@, \\verb@a@, \\verb@o@, \\verb@z@, \\verb@dez@, \\verb@vi@, \\verb@es@, \\verb@pu@, \\verb@tos@, \\verb@rer@, \\verb@ed@, \\verb@nt@, \\verb@ig@, \\verb@ana@, \\verb@re@, \\verb@sol@, \\verb@ina@, \\verb@bus@, \\verb@jas@, \\verb@ndo@, \\verb@ado@, \\verb@ol@, \\verb@san@, \\verb@as@, \\verb@ill@, \\verb@nte@, \\verb@ban@, \\verb@ec@, \\verb@ngo@, \\verb@lda@, \\verb@uin@, \\verb@nco@, \\verb@sis@, \\verb@nez@, \\verb@rey@, \\verb@aba@, \\verb@bl@, \\verb@u@, \\verb@iz@, \\verb@sot@, \\verb@do@, \\verb@rr@, \\verb@ubi@, \\verb@til@, \\verb@ui@, \\verb@les@, \\verb@mat@, \\verb@ti@, \\verb@lg@, \\verb@err@ \\\\\n",
      "\\hline Vietnamese &  \\verb@ph@, \\verb@nh@, \\verb@ng@, \\verb@tr@, \\verb@ie@, \\verb@uon@, \\verb@tha@, \\verb@ieu@, \\verb@oan@, \\verb@th@, \\verb@ao@, \\verb@uy@, \\verb@eu@, \\verb@oa@, \\verb@inh@, \\verb@ki@, \\verb@ac@, \\verb@ach@, \\verb@doa@, \\verb@gia@, \\verb@pha@, \\verb@vu@, \\verb@ton@, \\verb@dao@, \\verb@sai@, \\verb@hau@, \\verb@kim@, \\verb@yen@, \\verb@uye@, \\verb@cao@, \\verb@ai@, \\verb@bui@, \\verb@mai@, \\verb@uu@, \\verb@do@, \\verb@bac@, \\verb@uo@, \\verb@qu@, \\verb@chu@, \\verb@an@, \\verb@tri@, \\verb@iep@, \\verb@ngo@, \\verb@ly@, \\verb@qua@, \\verb@to@, \\verb@anh@, \\verb@le@, \\verb@lam@, \\verb@luc@ \\\\\n"
     ]
    }
   ],
   "source": [
    "for origin, ngrams in df_dict.items():\n",
    "    ngrams = '@, \\\\verb@'.join(ngrams)\n",
    "    print('\\hline {} &  \\\\verb@{}@ \\\\\\\\'.format(origin, ngrams))"
   ]
  },
  {
   "cell_type": "code",
   "execution_count": null,
   "metadata": {},
   "outputs": [],
   "source": [
    "new_dict = dict()\n",
    "origins = []\n",
    "uni = []\n",
    "bi = []\n",
    "tri = []\n",
    "for origin, ngrams in df_dict.items():\n",
    "    origins.append(origin)\n",
    "    length_ngrams = [len(ngram_t) for ngram_t in ngrams]\n",
    "    uni.append(sum([l == 1 for l in length_ngrams]))\n",
    "    bi.append(sum([l == 2 for l in length_ngrams]))\n",
    "    tri.append(sum([l == 3 for l in length_ngrams]))\n",
    "              "
   ]
  },
  {
   "cell_type": "code",
   "execution_count": null,
   "metadata": {},
   "outputs": [
    {
     "data": {
      "text/plain": [
       "Text(0.5, 0, 'Nombre')"
      ]
     },
     "execution_count": 113,
     "metadata": {},
     "output_type": "execute_result"
    },
    {
     "data": {
      "image/png": "[encoded data removed]",
      "text/plain": [
       "<Figure size 720x1440 with 1 Axes>"
      ]
     },
     "metadata": {
      "needs_background": "light"
     },
     "output_type": "display_data"
    }
   ],
   "source": [
    "plt.rcParams.update({'font.size': 22})\n",
    "df = pd.DataFrame({'unigrammes': uni,\n",
    "                   'bigrammes': bi,\n",
    "                  'trigrammes': tri}, index=origins)\n",
    "ax = df.plot.barh(rot=0, figsize=(10,20))\n",
    "ax.set_xlabel(\"Nombre\")"
   ]
  },
  {
   "cell_type": "code",
   "execution_count": null,
   "metadata": {},
   "outputs": [],
   "source": []
  }
 ],
 "metadata": {
  "kernelspec": {
   "display_name": "Python 3 (ipykernel)",
   "language": "python",
   "name": "python3"
  },
  "language_info": {
   "codemirror_mode": {
    "name": "ipython",
    "version": 3
   },
   "file_extension": ".py",
   "mimetype": "text/x-python",
   "name": "python",
   "nbconvert_exporter": "python",
   "pygments_lexer": "ipython3",
   "version": "3.9.7"
  },
  "vscode": {
   "interpreter": {
    "hash": "40d3a090f54c6569ab1632332b64b2c03c39dcf918b08424e98f38b5ae0af88f"
   }
  }
 },
 "nbformat": 4,
 "nbformat_minor": 2
}
