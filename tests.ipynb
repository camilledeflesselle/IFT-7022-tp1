{
 "cells": [
  {
   "cell_type": "markdown",
   "metadata": {},
   "source": [
    "## TÂCHE 1 – EXPRESSIONS RÉGULIÈRES – EXTRACTION D’INFORMATION À PARTIR DE RECETTES"
   ]
  },
  {
   "cell_type": "code",
   "execution_count": 1,
   "metadata": {},
   "outputs": [
    {
     "name": "stdout",
     "output_type": "stream",
     "text": [
      "/Users/lchollet/Desktop/Année Laval/automne 2022/NLP/IFT-7022-tp1/fichiers_tp1\n"
     ]
    }
   ],
   "source": [
    "%cd fichiers_tp1"
   ]
  },
  {
   "cell_type": "code",
   "execution_count": 33,
   "metadata": {},
   "outputs": [
    {
     "name": "stdout",
     "output_type": "stream",
     "text": [
      "Lecture des ingrédients du fichier ./data/ingredients.txt. Voici quelques exemples: \n",
      "\n",
      "Extractions fausses :\n",
      "Result / Truth\n",
      "crème % / crème 35%\n",
      "poitrine de poulet désossées et / poitrine de poulet\n",
      "pommes de terre rattes / pommes de terre\n",
      "Préparation de la pâte épicée / \n",
      "sel et poivre du moulin  / sel et poivre du moulin\n",
      "Beurre pour fonçage / Beurre\n",
      "Le jus d’-lime / lime\n",
      "Percentage of errors for quantities : 8.59375%\n",
      "Percentage of errors for ingredients : 5.46875%\n"
     ]
    }
   ],
   "source": [
    "\n",
    "# (\\(?[\\d]+((,|\\/)[\\d]+)?\\s((c\\.|cuillère)s?\\sà\\s[A-zÀ-ü]+\\.?|(rôti\\sde|tasse|Bouquet|Rondelle|enveloppe|tranche)s?|m|g|k|po|lb|l|L|oz|)+(\\.|é|\\b)\\)?)\n",
    "execfile(\"t1_extraction_ingredients.py\")"
   ]
  },
  {
   "cell_type": "markdown",
   "metadata": {},
   "source": [
    "## TÂCHE 2 – MODÈLES DE LANGUE N-GRAMMES - COMME LE DISAIT LE PROVERBE…"
   ]
  },
  {
   "cell_type": "code",
   "execution_count": 34,
   "metadata": {},
   "outputs": [
    {
     "name": "stdout",
     "output_type": "stream",
     "text": [
      "showing info https://raw.githubusercontent.com/nltk/nltk_data/gh-pages/index.xml\n"
     ]
    },
    {
     "data": {
      "text/plain": [
       "True"
      ]
     },
     "execution_count": 34,
     "metadata": {},
     "output_type": "execute_result"
    }
   ],
   "source": [
    "# télécharger nltk -> pip install nltk ->run la cellule\n",
    "import nltk\n",
    "nltk.download()"
   ]
  },
  {
   "cell_type": "code",
   "execution_count": 35,
   "metadata": {},
   "outputs": [
    {
     "data": {
      "text/plain": [
       "['The', 'Fulton', 'County', 'Grand', 'Jury', 'said', ...]"
      ]
     },
     "execution_count": 35,
     "metadata": {},
     "output_type": "execute_result"
    }
   ],
   "source": [
    "#test si nltk data téléchargé\n",
    "from nltk.corpus import brown\n",
    "brown.words()"
   ]
  },
  {
   "cell_type": "code",
   "execution_count": 45,
   "metadata": {},
   "outputs": [
    {
     "name": "stdout",
     "output_type": "stream",
     "text": [
      "\n",
      "Nombre de proverbes pour entraîner les modèles :  3108\n",
      "\n",
      "\tProverbe incomplet: a beau *** qui vient de loin , Options: ['mentir', 'prêcher', 'temps', 'visage']\n",
      "\tSolution = a beau temps qui vient de loin , Valeur = 327.68151952835603\n",
      "\n",
      "\tProverbe incomplet: l’occasion fait le *** , Options: ['larron', 'malin', 'bonheur', 'pouvoir']\n",
      "\tSolution = l’occasion fait le bonheur , Valeur = 273.32276484035833\n",
      "\n",
      "\tProverbe incomplet: aide-toi, le ciel t’*** , Options: ['aidera', 'a', 'en', 'armera']\n",
      "\tSolution = aide-toi, le ciel t’a , Valeur = 301.3954347743886\n",
      "\n",
      "\tProverbe incomplet: année de gelée, *** de blé , Options: ['année', 'faute', 'années', 'et']\n",
      "\tSolution = année de gelée, et de blé , Valeur = 390.01718490193497\n",
      "\n",
      " Exactitude avec n = 1 et le critère 'perplexity' : 0.2391304347826087\n",
      "\n",
      "\tProverbe incomplet: a beau *** qui vient de loin , Options: ['mentir', 'prêcher', 'temps', 'visage']\n",
      "\tSolution = a beau temps qui vient de loin , Valeur = -58.49305350225498\n",
      "\n",
      "\tProverbe incomplet: l’occasion fait le *** , Options: ['larron', 'malin', 'bonheur', 'pouvoir']\n",
      "\tSolution = l’occasion fait le bonheur , Valeur = -48.56677089352377\n",
      "\n",
      "\tProverbe incomplet: aide-toi, le ciel t’*** , Options: ['aidera', 'a', 'en', 'armera']\n",
      "\tSolution = aide-toi, le ciel t’a , Valeur = -57.64859628098911\n",
      "\n",
      "\tProverbe incomplet: année de gelée, *** de blé , Options: ['année', 'faute', 'années', 'et']\n",
      "\tSolution = année de gelée, et de blé , Valeur = -60.251757181339876\n",
      "\n",
      " Exactitude avec n = 1 et le critère 'logprob' : 0.2391304347826087\n",
      "\n",
      "\tProverbe incomplet: a beau *** qui vient de loin , Options: ['mentir', 'prêcher', 'temps', 'visage']\n",
      "\tSolution = a beau temps qui vient de loin , Valeur = 1192.898700326167\n",
      "\n",
      "\tProverbe incomplet: l’occasion fait le *** , Options: ['larron', 'malin', 'bonheur', 'pouvoir']\n",
      "\tSolution = l’occasion fait le bonheur , Valeur = 364.8245246304567\n",
      "\n",
      "\tProverbe incomplet: aide-toi, le ciel t’*** , Options: ['aidera', 'a', 'en', 'armera']\n",
      "\tSolution = aide-toi, le ciel t’a , Valeur = 442.498038162677\n",
      "\n",
      "\tProverbe incomplet: année de gelée, *** de blé , Options: ['année', 'faute', 'années', 'et']\n",
      "\tSolution = année de gelée, et de blé , Valeur = 646.8734363337387\n",
      "\n",
      " Exactitude avec n = 2 et le critère 'perplexity' : 0.5\n",
      "\n",
      "\tProverbe incomplet: a beau *** qui vient de loin , Options: ['mentir', 'prêcher', 'temps', 'visage']\n",
      "\tSolution = a beau temps qui vient de loin , Valeur = -61.32153492471893\n",
      "\n",
      "\tProverbe incomplet: l’occasion fait le *** , Options: ['larron', 'malin', 'bonheur', 'pouvoir']\n",
      "\tSolution = l’occasion fait le bonheur , Valeur = -42.55529452475154\n",
      "\n",
      "\tProverbe incomplet: aide-toi, le ciel t’*** , Options: ['aidera', 'a', 'en', 'armera']\n",
      "\tSolution = aide-toi, le ciel t’a , Valeur = -52.737163492340784\n",
      "\n",
      "\tProverbe incomplet: année de gelée, *** de blé , Options: ['année', 'faute', 'années', 'et']\n",
      "\tSolution = année de gelée, et de blé , Valeur = -56.024037959388885\n",
      "\n",
      " Exactitude avec n = 2 et le critère 'logprob' : 0.5\n",
      "\n",
      "\tProverbe incomplet: aide-toi, le ciel t’*** , Options: ['aidera', 'a', 'en', 'armera']\n",
      "\tSolution = aide-toi, le ciel t’en , Valeur = 1801.4973065309157\n",
      "\n",
      "\tProverbe incomplet: ce n’est pas tous les jours *** , Options: ['fête', 'pâques', 'dangereux', 'noces']\n",
      "\tSolution = ce n’est pas tous les jours fête , Valeur = 424.78292287691187\n",
      "\n",
      "\tProverbe incomplet: à qui dieu aide, *** ne peut nuire , Options: ['nul', 'on', 'qui', 'rien']\n",
      "\tSolution = à qui dieu aide, on ne peut nuire , Valeur = 1453.2411525058822\n",
      "\n",
      "\tProverbe incomplet: il n’y a *** de rose de cent jours , Options: ['point', 'pas', 'rien', 'toujours']\n",
      "\tSolution = il n’y a pas de rose de cent jours , Valeur = 426.3212829967723\n",
      "\n",
      " Exactitude avec n = 3 et le critère 'perplexity' : 0.8913043478260869\n",
      "\n",
      "\tProverbe incomplet: aide-toi, le ciel t’*** , Options: ['aidera', 'a', 'en', 'armera']\n",
      "\tSolution = aide-toi, le ciel t’en , Valeur = -54.074903897073185\n",
      "\n",
      "\tProverbe incomplet: ce n’est pas tous les jours *** , Options: ['fête', 'pâques', 'dangereux', 'noces']\n",
      "\tSolution = ce n’est pas tous les jours fête , Valeur = -61.11407370499545\n",
      "\n",
      "\tProverbe incomplet: à qui dieu aide, *** ne peut nuire , Options: ['nul', 'on', 'qui', 'rien']\n",
      "\tSolution = à qui dieu aide, on ne peut nuire , Valeur = -73.53540886979286\n",
      "\n",
      "\tProverbe incomplet: il n’y a *** de rose de cent jours , Options: ['point', 'pas', 'rien', 'toujours']\n",
      "\tSolution = il n’y a pas de rose de cent jours , Valeur = -78.62217542752143\n",
      "\n",
      " Exactitude avec n = 3 et le critère 'logprob' : 0.8913043478260869\n",
      "\n",
      "\tProverbe incomplet: ce n’est pas tous les jours *** , Options: ['fête', 'pâques', 'dangereux', 'noces']\n",
      "\tSolution = ce n’est pas tous les jours fête , Valeur = 786.3661725235031\n",
      "\n",
      "\tProverbe incomplet: il n’y a *** de rose de cent jours , Options: ['point', 'pas', 'rien', 'toujours']\n",
      "\tSolution = il n’y a pas de rose de cent jours , Valeur = 672.7258661676785\n",
      "\n",
      "\tProverbe incomplet: on ne *** pas le poisson qui est encore dans la mer , Options: ['vend', 'prend', 'connaît', 'perd']\n",
      "\tSolution = on ne perd pas le poisson qui est encore dans la mer , Valeur = 2207.586092645389\n",
      "\n",
      " Exactitude avec n = 4 et le critère 'perplexity' : 0.9347826086956522\n",
      "\n",
      "\tProverbe incomplet: ce n’est pas tous les jours *** , Options: ['fête', 'pâques', 'dangereux', 'noces']\n",
      "\tSolution = ce n’est pas tous les jours fête , Valeur = -57.714344710258544\n",
      "\n",
      "\tProverbe incomplet: il n’y a *** de rose de cent jours , Options: ['point', 'pas', 'rien', 'toujours']\n",
      "\tSolution = il n’y a pas de rose de cent jours , Valeur = -75.1509993626441\n",
      "\n",
      "\tProverbe incomplet: on ne *** pas le poisson qui est encore dans la mer , Options: ['vend', 'prend', 'connaît', 'perd']\n",
      "\tSolution = on ne perd pas le poisson qui est encore dans la mer , Valeur = -99.97428587976266\n",
      "\n",
      " Exactitude avec n = 4 et le critère 'logprob' : 0.9347826086956522\n"
     ]
    }
   ],
   "source": [
    "execfile(\"t2_completer_proverbes.py\")"
   ]
  },
  {
   "cell_type": "markdown",
   "metadata": {},
   "source": [
    "## TÂCHE 3 "
   ]
  },
  {
   "cell_type": "markdown",
   "metadata": {},
   "source": [
    "### Naif bayes / word"
   ]
  },
  {
   "cell_type": "code",
   "execution_count": 2,
   "metadata": {},
   "outputs": [
    {
     "name": "stdout",
     "output_type": "stream",
     "text": [
      "Mots les plus importants pour la classe pos\n",
      "['excellent', 'wonderful', 'quiet', 'highly', 'perfect', 'helpful', 'beautiful', 'war', 'modern', 'walk']\n",
      "Mots les plus importants pour la classe neg\n",
      "['waste', 'worst', 'terrible', 'boring', 'stupid', 'worse', 'poor', 'asked', 'supposed', 'bad']\n",
      "Résultats avec la méthode NB / words :\n",
      "Accuracy - entraînement:  0.8151666666666667\n",
      "Accuracy - test:  0.8155487804878049\n",
      "Matrice de confusion:  [[801 181]\n",
      " [182 804]]\n",
      "\n",
      "Temps d'exécution de train_and_test_classifier : 2.3932986510000003\n"
     ]
    }
   ],
   "source": [
    "model = 'NB'\n",
    "normalization = 'words'\n",
    "#execfile(\"t3_analyse_sentiment.py\")\n",
    "%run -i \"t3_analyse_sentiment.py\""
   ]
  },
  {
   "cell_type": "markdown",
   "metadata": {},
   "source": [
    "### Naif bayes / lemmatisation"
   ]
  },
  {
   "cell_type": "code",
   "execution_count": 4,
   "metadata": {},
   "outputs": [
    {
     "name": "stdout",
     "output_type": "stream",
     "text": [
      "Mots les plus importants pour la classe pos\n",
      "['excellent', 'wonderful', 'perfect', 'helpful', 'war', 'beautiful', 'great', 'enjoy', 'life', 'friendly']\n",
      "Mots les plus importants pour la classe neg\n",
      "['waste', 'terrible', 'boring', 'stupid', 'bad', 'poor', 'suppose', 'ok', 'desk', 'guess']\n",
      "Résultats avec la méthode NB / lemma :\n",
      "Accuracy - entraînement:  0.817\n",
      "Accuracy - test:  0.8170731707317073\n",
      "Matrice de confusion:  [[807 175]\n",
      " [185 801]]\n",
      "\n",
      "Temps d'exécution de train_and_test_classifier : 324.4687613639999\n"
     ]
    }
   ],
   "source": [
    "model = 'NB'\n",
    "normalization = 'lemma'\n",
    "#execfile(\"t3_analyse_sentiment.py\")\n",
    "%run -i \"t3_analyse_sentiment.py\""
   ]
  },
  {
   "cell_type": "markdown",
   "metadata": {},
   "source": [
    "### Naif bayes / stemming"
   ]
  },
  {
   "cell_type": "code",
   "execution_count": 3,
   "metadata": {},
   "outputs": [
    {
     "name": "stdout",
     "output_type": "stream",
     "text": [
      "Mots les plus importants pour la classe pos\n",
      "['excel', 'perfect', 'beauti', 'war', 'great', 'life', 'alien', 'enjoy', 'love', 'power']\n",
      "Mots les plus importants pour la classe neg\n",
      "['wast', 'worst', 'terribl', 'bore', 'poor', 'bad', 'suppos', 'told', 'disappoint', 'desk']\n",
      "Résultats avec la méthode NB / stem :\n",
      "Accuracy - entraînement:  0.817\n",
      "Accuracy - test:  0.8109756097560976\n",
      "Matrice de confusion:  [[806 176]\n",
      " [196 790]]\n",
      "\n",
      "Temps d'exécution de train_and_test_classifier : 49.7059764239998\n"
     ]
    }
   ],
   "source": [
    "model = 'NB'\n",
    "normalization = 'stem'\n",
    "#execfile(\"t3_analyse_sentiment.py\")\n",
    "%run -i \"t3_analyse_sentiment.py\""
   ]
  },
  {
   "cell_type": "markdown",
   "metadata": {},
   "source": [
    "### Reg Log / words"
   ]
  },
  {
   "cell_type": "code",
   "execution_count": 28,
   "metadata": {},
   "outputs": [
    {
     "name": "stdout",
     "output_type": "stream",
     "text": [
      "Mots les plus importants pour la classe pos\n",
      "            Mots   pos\n",
      "15250  excellent  0.93\n",
      "47595  wonderful  0.69\n",
      "31652    perfect  0.69\n",
      "16029   favorite  0.69\n",
      "20105    helpful  0.65\n",
      "20307     highly  0.63\n",
      "14553    enjoyed  0.62\n",
      "2238     amazing  0.61\n",
      "18899      great  0.58\n",
      "25649     lovely  0.53\n",
      "Mots les plus importants pour la classe neg\n",
      "                Mots   pos\n",
      "5717          boring -0.92\n",
      "46827          waste -0.85\n",
      "47731          worst -0.84\n",
      "45165  unfortunately -0.75\n",
      "12390  disappointing -0.74\n",
      "32720           poor -0.73\n",
      "42886       terrible -0.72\n",
      "12389   disappointed -0.72\n",
      "3933             bad -0.63\n",
      "3800           awful -0.63\n",
      "Résultats avec la méthode LR / words :\n",
      "Accuracy - entraînement:  0.8336666666666668\n",
      "Accuracy - test:  0.8460365853658537\n",
      "Matrice de confusion:  [[831 151]\n",
      " [152 834]]\n",
      "\n",
      "Temps d'exécution de train_and_test_classifier : 4.877469465000104\n"
     ]
    }
   ],
   "source": [
    "model = 'LR'\n",
    "normalization = 'words'\n",
    "%run -i \"t3_analyse_sentiment.py\"\n",
    "#execfile(\"t3_analyse_sentiment.py\")"
   ]
  },
  {
   "cell_type": "markdown",
   "metadata": {},
   "source": [
    "### Reg Log / Stemming"
   ]
  },
  {
   "cell_type": "code",
   "execution_count": 6,
   "metadata": {},
   "outputs": [
    {
     "name": "stdout",
     "output_type": "stream",
     "text": [
      "Mots les plus importants pour la classe pos\n",
      "['terrif', '41', 'favourit', 'intens', 'oasi', 'excel', 'beginn', 'bonu', 'veneto', 'blend']\n",
      "Mots les plus importants pour la classe neg\n",
      "['wast', 'insult', 'buffett', 'terribl', 'aw', 'worst', 'justifi', 'bland', 'unfortun', 'snobbi']\n",
      "Résultats avec la méthode LR / stem :\n",
      "Accuracy - entraînement:  0.8225\n",
      "Accuracy - test:  0.8313008130081301\n",
      "Matrice de confusion:  [[816 166]\n",
      " [166 820]]\n",
      "\n",
      "Temps d'exécution de train_and_test_classifier : 54.08981780799968\n"
     ]
    }
   ],
   "source": [
    "model = 'LR'\n",
    "normalization = 'stem'\n",
    "%run -i \"t3_analyse_sentiment.py\"\n",
    "#execfile(\"t3_analyse_sentiment.py\")"
   ]
  },
  {
   "cell_type": "markdown",
   "metadata": {},
   "source": [
    "### Reg Log / Lemma"
   ]
  },
  {
   "cell_type": "code",
   "execution_count": 12,
   "metadata": {},
   "outputs": [
    {
     "name": "stdout",
     "output_type": "stream",
     "text": [
      "Résultats avec la méthode LR / lemma :\n",
      "Accuracy - entraînement:  0.8373333333333333\n",
      "Accuracy - test:  0.8455284552845529\n",
      "Matrice de confusion:  [[833 149]\n",
      " [155 831]]\n",
      "\n",
      "Temps d'exécution de train_and_test_classifier : 310.6001361969975\n"
     ]
    }
   ],
   "source": [
    "model = 'LR'\n",
    "normalization = 'lemma'\n",
    "%run -i \"t3_analyse_sentiment.py\"\n",
    "#execfile(\"t3_analyse_sentiment.py\")"
   ]
  },
  {
   "cell_type": "markdown",
   "metadata": {},
   "source": [
    "## Tache 4"
   ]
  },
  {
   "cell_type": "code",
   "execution_count": 117,
   "metadata": {},
   "outputs": [
    {
     "name": "stdout",
     "output_type": "stream",
     "text": [
      "Les 18 langues d'origine sont: \n",
      "['Czech', 'German', 'Arabic', 'Japanese', 'Chinese', 'Vietnamese', 'Russian', 'French', 'Irish', 'English', 'Spanish', 'Greek', 'Italian', 'Portuguese', 'Scottish', 'Dutch', 'Korean', 'Polish']\n",
      "\n",
      "Quelques noms chinois : \n",
      " ['Ang', 'AuYong', 'Bai', 'Ban', 'Bao', 'Bei', 'Bian', 'Bui', 'Cai', 'Cao', 'Cen', 'Chai', 'Chaim', 'Chan', 'Chang', 'Chao', 'Che', 'Chen', 'Cheng', 'Cheung']\n",
      "\n",
      "Accuracy pour NB / 1-gram = 0.16111111111111112\n",
      "\n",
      "Accuracy pour NB / 2-gram = 0.4\n",
      "\n",
      "Accuracy pour NB / 3-gram = 0.37777777777777777\n",
      "\n",
      "Accuracy pour NB / multi-gram = 0.3055555555555556\n",
      "\n",
      "Accuracy pour LR / 1-gram = 0.25555555555555554\n",
      "\n",
      "Accuracy pour LR / 2-gram = 0.5333333333333333\n",
      "\n",
      "Accuracy pour LR / 3-gram = 0.5222222222222223\n",
      "\n",
      "Accuracy pour LR / multi-gram = 0.6388888888888888\n"
     ]
    }
   ],
   "source": [
    "execfile(\"t4_classification_noms.py\")"
   ]
  }
 ],
 "metadata": {
  "kernelspec": {
   "display_name": "Python 3",
   "language": "python",
   "name": "python3"
  },
  "language_info": {
   "codemirror_mode": {
    "name": "ipython",
    "version": 3
   },
   "file_extension": ".py",
   "mimetype": "text/x-python",
   "name": "python",
   "nbconvert_exporter": "python",
   "pygments_lexer": "ipython3",
   "version": "3.7.6"
  },
  "vscode": {
   "interpreter": {
    "hash": "40d3a090f54c6569ab1632332b64b2c03c39dcf918b08424e98f38b5ae0af88f"
   }
  }
 },
 "nbformat": 4,
 "nbformat_minor": 2
}
