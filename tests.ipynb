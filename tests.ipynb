{
 "cells": [
  {
   "cell_type": "markdown",
   "metadata": {},
   "source": [
    "## TÂCHE 1 – EXPRESSIONS RÉGULIÈRES – EXTRACTION D’INFORMATION À PARTIR DE RECETTES"
   ]
  },
  {
   "cell_type": "code",
   "execution_count": 1,
   "metadata": {},
   "outputs": [
    {
     "name": "stdout",
     "output_type": "stream",
     "text": [
      "/Users/camilledeflesselle/Desktop/IFT-7022/IFT-7022-tp1/fichiers_tp1\n"
     ]
    }
   ],
   "source": [
    "%cd fichiers_tp1"
   ]
  },
  {
   "cell_type": "code",
   "execution_count": 3,
   "metadata": {},
   "outputs": [
    {
     "name": "stdout",
     "output_type": "stream",
     "text": [
      "Lecture des ingrédients du fichier ./data/ingredients.txt. Voici quelques exemples: \n",
      "\n",
      "Extractions fausses :\n",
      "Result / Truth\n",
      "pommes vertes pelées / pommes vertes\n",
      "échalotes coupées finement / échalotes\n",
      "champignons émincés / champignons\n",
      "crème % / crème 35%\n",
      "poitrine de poulet désossées et coupées / poitrine de poulet\n",
      "oeuf battu / oeuf\n",
      "gingembre râpé / gingembre\n",
      "oignon vert coupés / oignon vert\n",
      "fromage cheddar râpé / fromage cheddar\n",
      "échalote hachées / échalote\n",
      "oeuf battu / oeuf\n",
      "pommes de terre rattes coupées(¼ po) d’épaisseur / pommes de terre\n",
      "Préparation de la pâte épicée / \n",
      "cacahuètes torréfiées / cacahuètes\n",
      "petites palourdes dans leur coquille / petites palourdes\n",
      "langoustines surgelées et décongelées (voir note) / langoustines surgelées\n",
      "asperges moyennes coupées / asperges moyennes\n",
      "persil plat ciselé / persil plat\n",
      "pain baguette d’environ  cm d’épaisseur / pain baguette\n",
      "Beurre pour fonçage / Beurre\n",
      "Percentage of errors for quantities : 12.5%\n",
      "Percentage of errors for ingredients : 15.625%\n"
     ]
    }
   ],
   "source": [
    "\n",
    "# (\\(?[\\d]+((,|\\/)[\\d]+)?\\s((c\\.|cuillère)s?\\sà\\s[A-zÀ-ü]+\\.?|(rôti\\sde|tasse|Bouquet|Rondelle|enveloppe|tranche)s?|m|g|k|po|lb|l|L|oz|)+(\\.|é|\\b)\\)?)\n",
    "execfile(\"t1_extraction_ingredients.py\")"
   ]
  },
  {
   "cell_type": "markdown",
   "metadata": {},
   "source": [
    "## TÂCHE 2 – MODÈLES DE LANGUE N-GRAMMES - COMME LE DISAIT LE PROVERBE…"
   ]
  },
  {
   "cell_type": "code",
   "execution_count": 2,
   "metadata": {},
   "outputs": [
    {
     "name": "stdout",
     "output_type": "stream",
     "text": [
      "showing info https://raw.githubusercontent.com/nltk/nltk_data/gh-pages/index.xml\n",
      "showing info https://raw.githubusercontent.com/nltk/nltk_data/gh-pages/index.xml\n"
     ]
    },
    {
     "data": {
      "text/plain": [
       "True"
      ]
     },
     "execution_count": 2,
     "metadata": {},
     "output_type": "execute_result"
    }
   ],
   "source": [
    "# télécharger nltk -> pip install nltk ->run la cellule\n",
    "import nltk\n",
    "nltk.download()"
   ]
  },
  {
   "cell_type": "code",
   "execution_count": 3,
   "metadata": {},
   "outputs": [
    {
     "data": {
      "text/plain": [
       "['The', 'Fulton', 'County', 'Grand', 'Jury', 'said', ...]"
      ]
     },
     "execution_count": 3,
     "metadata": {},
     "output_type": "execute_result"
    }
   ],
   "source": [
    "#test si nltk data téléchargé\n",
    "from nltk.corpus import brown\n",
    "brown.words()"
   ]
  },
  {
   "cell_type": "code",
   "execution_count": 106,
   "metadata": {},
   "outputs": [
    {
     "name": "stdout",
     "output_type": "stream",
     "text": [
      "\n",
      "Nombre de proverbes pour entraîner les modèles :  3108\n",
      "\n",
      "Nombre de tests du fichier ./data/test_proverbes.txt: 46\n",
      "\n",
      "Les résultats des tests sont:\n",
      "\n",
      "\n",
      " Résultats avec n = 1 et le critère 'perplexity' : \n",
      "\n",
      "\tProverbe incomplet: aide-toi, le ciel t’*** , Options: ['aidera', 'a', 'en', 'armera']\n",
      "\tSolution = aide-toi, le ciel t’a , Valeur = 475.6740994754421\n",
      "\n",
      "\tProverbe incomplet: ce n’est pas tous les jours *** , Options: ['fête', 'pâques', 'dangereux', 'noces']\n",
      "\tSolution = ce n’est pas tous les jours fête , Valeur = 1570.2366001412367\n",
      "\n",
      " Nombre d'erreurs avec n = 1 et le critère 'perplexity' : 2\n",
      "\n",
      "\n",
      " Résultats avec n = 1 et le critère 'logprob' : \n",
      "\n",
      "\tProverbe incomplet: ce n’est pas tous les jours *** , Options: ['fête', 'pâques', 'dangereux', 'noces']\n",
      "\tSolution = ce n’est pas tous les jours fête , Valeur = -12.126704472843189\n",
      "\n",
      " Nombre d'erreurs avec n = 1 et le critère 'logprob' : 1\n",
      "\n",
      "\n",
      " Résultats avec n = 2 et le critère 'perplexity' : \n",
      "\n",
      "\tProverbe incomplet: a beau *** qui vient de loin , Options: ['mentir', 'prêcher', 'temps', 'visage']\n",
      "\tSolution = a beau temps qui vient de loin , Valeur = 1192.898700326167\n",
      "\n",
      "\tProverbe incomplet: l’occasion fait le *** , Options: ['larron', 'malin', 'bonheur', 'pouvoir']\n",
      "\tSolution = l’occasion fait le bonheur , Valeur = 364.8245246304567\n",
      "\n",
      "\tProverbe incomplet: aide-toi, le ciel t’*** , Options: ['aidera', 'a', 'en', 'armera']\n",
      "\tSolution = aide-toi, le ciel t’a , Valeur = 442.498038162677\n",
      "\n",
      "\tProverbe incomplet: année de gelée, *** de blé , Options: ['année', 'faute', 'années', 'et']\n",
      "\tSolution = année de gelée, et de blé , Valeur = 646.8734363337387\n",
      "\n",
      " Nombre d'erreurs avec n = 2 et le critère 'perplexity' : 23\n",
      "\n",
      "\n",
      " Résultats avec n = 2 et le critère 'logprob' : \n",
      "\n",
      "\tProverbe incomplet: ce n’est pas tous les jours *** , Options: ['fête', 'pâques', 'dangereux', 'noces']\n",
      "\tSolution = ce n’est pas tous les jours fête , Valeur = -12.126704472843189\n",
      "\n",
      " Nombre d'erreurs avec n = 2 et le critère 'logprob' : 1\n",
      "\n",
      "\n",
      " Résultats avec n = 3 et le critère 'perplexity' : \n",
      "\n",
      "\tProverbe incomplet: aide-toi, le ciel t’*** , Options: ['aidera', 'a', 'en', 'armera']\n",
      "\tSolution = aide-toi, le ciel t’en , Valeur = 1801.4973065309157\n",
      "\n",
      "\tProverbe incomplet: ce n’est pas tous les jours *** , Options: ['fête', 'pâques', 'dangereux', 'noces']\n",
      "\tSolution = ce n’est pas tous les jours fête , Valeur = 424.78292287691187\n",
      "\n",
      "\tProverbe incomplet: à qui dieu aide, *** ne peut nuire , Options: ['nul', 'on', 'qui', 'rien']\n",
      "\tSolution = à qui dieu aide, on ne peut nuire , Valeur = 1453.2411525058822\n",
      "\n",
      "\tProverbe incomplet: il n’y a *** de rose de cent jours , Options: ['point', 'pas', 'rien', 'toujours']\n",
      "\tSolution = il n’y a pas de rose de cent jours , Valeur = 426.3212829967723\n",
      "\n",
      " Nombre d'erreurs avec n = 3 et le critère 'perplexity' : 5\n",
      "\n",
      "\n",
      " Résultats avec n = 3 et le critère 'logprob' : \n",
      "\n",
      "\tProverbe incomplet: ce n’est pas tous les jours *** , Options: ['fête', 'pâques', 'dangereux', 'noces']\n",
      "\tSolution = ce n’est pas tous les jours fête , Valeur = -12.126704472843189\n",
      "\n",
      " Nombre d'erreurs avec n = 3 et le critère 'logprob' : 1\n"
     ]
    }
   ],
   "source": [
    "execfile(\"t2_completer_proverbes.py\")"
   ]
  },
  {
   "cell_type": "code",
   "execution_count": null,
   "metadata": {},
   "outputs": [],
   "source": []
  }
 ],
 "metadata": {
  "kernelspec": {
   "display_name": "Python 3 (ipykernel)",
   "language": "python",
   "name": "python3"
  },
  "language_info": {
   "codemirror_mode": {
    "name": "ipython",
    "version": 3
   },
   "file_extension": ".py",
   "mimetype": "text/x-python",
   "name": "python",
   "nbconvert_exporter": "python",
   "pygments_lexer": "ipython3",
   "version": "3.9.7"
  },
  "vscode": {
   "interpreter": {
    "hash": "40d3a090f54c6569ab1632332b64b2c03c39dcf918b08424e98f38b5ae0af88f"
   }
  }
 },
 "nbformat": 4,
 "nbformat_minor": 2
}
